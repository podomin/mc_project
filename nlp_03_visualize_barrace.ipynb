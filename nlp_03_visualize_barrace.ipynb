{
 "cells": [
  {
   "cell_type": "markdown",
   "id": "e2fb242f-2439-4026-9d76-b0cd9810863c",
   "metadata": {},
   "source": [
    "## ch3. 2022년 선수별 언급 횟수 추이 시각화하기\n",
    "\n",
    "이제 선수별로 시간 흐름에 따라서 뉴스 기사에서 언급된 횟수를 카운팅하겠습니다.  \n",
    "\n",
    "### 선수 이름 데이터 가져오기\n",
    "선수들의 이름은 KBO 공식 홈페이지에서 가져왔습니다.  \n",
    "\n",
    "- KBO 전체 등록 현황: https://www.koreabaseball.com/Player/RegisterAll.aspx"
   ]
  },
  {
   "cell_type": "code",
   "execution_count": 174,
   "id": "73672505-4711-47de-82b5-847a33156c5f",
   "metadata": {},
   "outputs": [],
   "source": [
    "import pandas as pd\n",
    "import csv\n",
    "\n",
    "df = pd.read_csv(\"./data/baseball_preprocessed.csv\", encoding='utf-8', sep=\"\\t\")"
   ]
  },
  {
   "cell_type": "code",
   "execution_count": 175,
   "id": "76a5345f-cbce-4ad1-882b-c2424da89b0c",
   "metadata": {
    "tags": []
   },
   "outputs": [
    {
     "data": {
      "text/html": [
       "<div>\n",
       "<style scoped>\n",
       "    .dataframe tbody tr th:only-of-type {\n",
       "        vertical-align: middle;\n",
       "    }\n",
       "\n",
       "    .dataframe tbody tr th {\n",
       "        vertical-align: top;\n",
       "    }\n",
       "\n",
       "    .dataframe thead th {\n",
       "        text-align: right;\n",
       "    }\n",
       "</style>\n",
       "<table border=\"1\" class=\"dataframe\">\n",
       "  <thead>\n",
       "    <tr style=\"text-align: right;\">\n",
       "      <th></th>\n",
       "      <th>url</th>\n",
       "      <th>datetime</th>\n",
       "      <th>title</th>\n",
       "      <th>content</th>\n",
       "    </tr>\n",
       "  </thead>\n",
       "  <tbody>\n",
       "    <tr>\n",
       "      <th>0</th>\n",
       "      <td>https://sports.news.naver.com/news?oid=108&amp;aid...</td>\n",
       "      <td>20220101</td>\n",
       "      <td>KBO 정지택 총재 \"S존 개선하겠다... 메타버스-NFT 개발도\"</td>\n",
       "      <td>출범 40년을 넘긴 KBO가 2022년을 맞아 달라질 모습을 미리 전했다.정지택 K...</td>\n",
       "    </tr>\n",
       "    <tr>\n",
       "      <th>1</th>\n",
       "      <td>https://sports.news.naver.com/news?oid=117&amp;aid...</td>\n",
       "      <td>20220101</td>\n",
       "      <td>\"이용규 선배님께 죄송\" 데뷔도 안한 LG 신인이 고개숙인 사연</td>\n",
       "      <td>\"죄송하다는 말씀을 꼭 드리고 싶어요\"아직 프로 무대에 데뷔도 하지 않은 신인 선수...</td>\n",
       "    </tr>\n",
       "    <tr>\n",
       "      <th>2</th>\n",
       "      <td>https://sports.news.naver.com/news?oid=119&amp;aid...</td>\n",
       "      <td>20220101</td>\n",
       "      <td>KBO 정지택 총재 \"S존 유연하게 적용...NFT 개발 준비\"</td>\n",
       "      <td>KBO총재 신년사 통해 2022년 계획과 추진방향 전달[데일리안 = 김태훈 기자] ...</td>\n",
       "    </tr>\n",
       "    <tr>\n",
       "      <th>3</th>\n",
       "      <td>https://sports.news.naver.com/news?oid=109&amp;aid...</td>\n",
       "      <td>20220101</td>\n",
       "      <td>박병호-손아섭 이적에 뿔난 팬심, 냉철한 구단…감성과 이성의 충돌</td>\n",
       "      <td>올 겨울 KBO리그 FA 시장의 주목할 만한 특징은 프랜차이즈 스타들의 무더기 이적...</td>\n",
       "    </tr>\n",
       "    <tr>\n",
       "      <th>4</th>\n",
       "      <td>https://sports.news.naver.com/news?oid=109&amp;aid...</td>\n",
       "      <td>20220101</td>\n",
       "      <td>\"힘든 시기 팬들 덕분에 행복&amp;다시 오지 않는 추억\" 스타들의 새해 인사</td>\n",
       "      <td>2022년 임인년(壬寅年) 새해가 밝았다. 야구팬들의 응원을 받는 KBO 리그 선수...</td>\n",
       "    </tr>\n",
       "    <tr>\n",
       "      <th>...</th>\n",
       "      <td>...</td>\n",
       "      <td>...</td>\n",
       "      <td>...</td>\n",
       "      <td>...</td>\n",
       "    </tr>\n",
       "    <tr>\n",
       "      <th>102515</th>\n",
       "      <td>https://sports.news.naver.com/news?oid=657&amp;aid...</td>\n",
       "      <td>20221231</td>\n",
       "      <td>삼성라이온즈, 오키나와 전지훈련···유일하게 '일본'에서만 캠프 진행</td>\n",
       "      <td>코로나 19 이후 처음으로 프로야구 10개 구단 무려 6개 구단이 모이는 애리조나를...</td>\n",
       "    </tr>\n",
       "    <tr>\n",
       "      <th>102516</th>\n",
       "      <td>https://sports.news.naver.com/news?oid=076&amp;aid...</td>\n",
       "      <td>20221231</td>\n",
       "      <td>505이닝→994.2이닝 클래스 입증, 안방 마님 두번째 FA는 대박치나[SC초점]</td>\n",
       "      <td>키움 히어로즈 이지영(36)에겐 주전 포수로서 가치를 증명한 한 해였다.지난 시즌 ...</td>\n",
       "    </tr>\n",
       "    <tr>\n",
       "      <th>102517</th>\n",
       "      <td>https://sports.news.naver.com/news?oid=117&amp;aid...</td>\n",
       "      <td>20221231</td>\n",
       "      <td>단장의 바람은 절반만 현실로…LG 31승 듀오, 2023년 우승청부사 기대</td>\n",
       "      <td>“두 사람이 30승을 만들어주는 게 바람이다.\" LG 차명석 단장은 지난 1월 말에...</td>\n",
       "    </tr>\n",
       "    <tr>\n",
       "      <th>102518</th>\n",
       "      <td>https://sports.news.naver.com/news?oid=047&amp;aid...</td>\n",
       "      <td>20221231</td>\n",
       "      <td>프로야구 40주년 결산, 환희와 아쉬움의 순간들</td>\n",
       "      <td>2019년 이후 3년 만에 600만 관중 달성2022년은 한국프로야구(KBO)가 출...</td>\n",
       "    </tr>\n",
       "    <tr>\n",
       "      <th>102519</th>\n",
       "      <td>https://sports.news.naver.com/news?oid=117&amp;aid...</td>\n",
       "      <td>20221231</td>\n",
       "      <td>류현진 이후 허락 안 된 1점대 ERA…안우진? 김광현? 외인? ‘도전 계속’</td>\n",
       "      <td>결국 김광현(SSG)도 주저앉았다. 김광현은 9월29일 인천 키움전을 마치고 평균자...</td>\n",
       "    </tr>\n",
       "  </tbody>\n",
       "</table>\n",
       "<p>102520 rows × 4 columns</p>\n",
       "</div>"
      ],
      "text/plain": [
       "                                                      url  datetime  \\\n",
       "0       https://sports.news.naver.com/news?oid=108&aid...  20220101   \n",
       "1       https://sports.news.naver.com/news?oid=117&aid...  20220101   \n",
       "2       https://sports.news.naver.com/news?oid=119&aid...  20220101   \n",
       "3       https://sports.news.naver.com/news?oid=109&aid...  20220101   \n",
       "4       https://sports.news.naver.com/news?oid=109&aid...  20220101   \n",
       "...                                                   ...       ...   \n",
       "102515  https://sports.news.naver.com/news?oid=657&aid...  20221231   \n",
       "102516  https://sports.news.naver.com/news?oid=076&aid...  20221231   \n",
       "102517  https://sports.news.naver.com/news?oid=117&aid...  20221231   \n",
       "102518  https://sports.news.naver.com/news?oid=047&aid...  20221231   \n",
       "102519  https://sports.news.naver.com/news?oid=117&aid...  20221231   \n",
       "\n",
       "                                                 title  \\\n",
       "0                KBO 정지택 총재 \"S존 개선하겠다... 메타버스-NFT 개발도\"   \n",
       "1                  \"이용규 선배님께 죄송\" 데뷔도 안한 LG 신인이 고개숙인 사연   \n",
       "2                  KBO 정지택 총재 \"S존 유연하게 적용...NFT 개발 준비\"   \n",
       "3                 박병호-손아섭 이적에 뿔난 팬심, 냉철한 구단…감성과 이성의 충돌   \n",
       "4             \"힘든 시기 팬들 덕분에 행복&다시 오지 않는 추억\" 스타들의 새해 인사   \n",
       "...                                                ...   \n",
       "102515          삼성라이온즈, 오키나와 전지훈련···유일하게 '일본'에서만 캠프 진행   \n",
       "102516  505이닝→994.2이닝 클래스 입증, 안방 마님 두번째 FA는 대박치나[SC초점]   \n",
       "102517       단장의 바람은 절반만 현실로…LG 31승 듀오, 2023년 우승청부사 기대   \n",
       "102518                      프로야구 40주년 결산, 환희와 아쉬움의 순간들   \n",
       "102519     류현진 이후 허락 안 된 1점대 ERA…안우진? 김광현? 외인? ‘도전 계속’   \n",
       "\n",
       "                                                  content  \n",
       "0       출범 40년을 넘긴 KBO가 2022년을 맞아 달라질 모습을 미리 전했다.정지택 K...  \n",
       "1       \"죄송하다는 말씀을 꼭 드리고 싶어요\"아직 프로 무대에 데뷔도 하지 않은 신인 선수...  \n",
       "2       KBO총재 신년사 통해 2022년 계획과 추진방향 전달[데일리안 = 김태훈 기자] ...  \n",
       "3       올 겨울 KBO리그 FA 시장의 주목할 만한 특징은 프랜차이즈 스타들의 무더기 이적...  \n",
       "4       2022년 임인년(壬寅年) 새해가 밝았다. 야구팬들의 응원을 받는 KBO 리그 선수...  \n",
       "...                                                   ...  \n",
       "102515  코로나 19 이후 처음으로 프로야구 10개 구단 무려 6개 구단이 모이는 애리조나를...  \n",
       "102516  키움 히어로즈 이지영(36)에겐 주전 포수로서 가치를 증명한 한 해였다.지난 시즌 ...  \n",
       "102517  “두 사람이 30승을 만들어주는 게 바람이다.\" LG 차명석 단장은 지난 1월 말에...  \n",
       "102518  2019년 이후 3년 만에 600만 관중 달성2022년은 한국프로야구(KBO)가 출...  \n",
       "102519  결국 김광현(SSG)도 주저앉았다. 김광현은 9월29일 인천 키움전을 마치고 평균자...  \n",
       "\n",
       "[102520 rows x 4 columns]"
      ]
     },
     "execution_count": 175,
     "metadata": {},
     "output_type": "execute_result"
    }
   ],
   "source": [
    "df"
   ]
  },
  {
   "cell_type": "code",
   "execution_count": 178,
   "id": "bb17b8a3-ed44-4956-af8c-18a7aea116cb",
   "metadata": {
    "tags": []
   },
   "outputs": [
    {
     "name": "stdout",
     "output_type": "stream",
     "text": [
      "롯데 ['김진욱', '한현희', '최준용', '박세웅', '구승민', '김상수', '반즈', '신정락', '최이준', '김원중', '윤명준', '나균안', '스트레일리'] ['유강남', '정보근'] ['안치홍', '한동희', '김민수', '노진혁', '박승욱', '이학주', '전준우', '정훈'] ['안권수', '렉스', '김민석', '고승민', '윤동희']\n",
      "SSG ['고효준', '서진용', '김광현', '맥카티', '노경은', '박민호', '문승원', '오원석', '임준섭', '신헌민', '박종훈', '백승건', '최민준'] ['김민식', '조형우'] ['최정', '박성한', '김건웅', '최주환', '전의산', '최경모', '김성현'] ['추신수', '에레디아', '한유섬', '오태곤', '김정민', '최상민']\n",
      "LG ['임찬규', '함덕주', '정우영', '진해수', '켈리', '이정용', '배재준', '박명근', '김진성', '플럿코', '김윤식', '이지강', '유영찬', '최성훈'] ['김기연', '박동원'] ['오지환', '서건창', '김민성', '문보경', '송찬의', '정주현'] ['박해민', '김현수', '오스틴', '신민재', '홍창기', '문성주']\n",
      "두산 ['박치국', '홍건희', '이병헌', '김동주', '최지강', '알칸타라', '김명신', '곽빈', '최원준', '김유성', '고봉재', '최승용', '정철원'] ['장승현', '양의지'] ['허경민', '강승호', '전민재', '김재호', '양석환', '이유찬'] ['로하스', '정수빈', '김재환', '강진성', '조수행', '양찬열', '송승환']\n",
      "NC ['송명기', '페디', '김태현', '김영규', '김시훈', '임정호', '하준영', '이용준', '신민혁', '김진호', '구창모', '조민석', '이준호'] ['박세혁', '안중열'] ['도태훈', '박민우', '오영수', '서호철', '오태양', '윤형준', '김한별', '김주원'] ['천재환', '김성욱', '손아섭', '박건우', '한석현']\n",
      "KIA ['윤영철', '임기영', '이준영', '최지민', '메디나', '이의리', '장현식', '전상현', '김기훈', '양현종', '정해영', '앤더슨', '김대유'] ['주효상', '한승택'] ['박찬호', '김규성', '김선빈', '변우혁', '황대인', '홍종표', '류지혁'] ['이우성', '김호령', '소크라테스', '최형우', '고종욱', '이창진']\n",
      "삼성 ['김대우', '원태인', '우규민', '이승현', '오승환', '김태훈', '백정현', '뷰캐넌', '문용익', '최충연', '이승현', '수아레즈', '이상민'] ['이병헌', '김태군', '강민호'] ['김재상', '이성규', '김영웅', '조민성', '오재일', '김지찬', '이재현', '공민규'] ['윤정빈', '김성윤', '구자욱', '피렐라']\n",
      "키움 ['최원태', '김재웅', '김성진', '양현', '안우진', '요키시', '임창민', '하영민', '정찬헌', '김동혁', '후라도', '김준형', '윤정현'] ['김동헌', '이지영'] ['전병우', '이원석', '김태진', '러셀', '김혜성', '김휘집'] ['김준완', '이용규', '임병욱', '이형종', '박찬혁', '이정후', '이병규']\n",
      "KT ['고영표', '김민', '엄상백', '슐서', '손동현', '벤자민', '박세진', '김영현', '조이현', '박영현', '김재윤', '이선우'] ['장성우', '김준태'] ['문상준', '황재균', '오윤석', '강민성', '강백호', '박경수', '김상수'] ['이시원', '조용호', '문상철', '알포드', '홍현빈', '김민혁']\n",
      "한화 ['문동주', '남지민', '김기중', '페냐', '장민재', '이태양', '김범수', '윤대경', '김민우', '김서현', '강재민', '정우람', '박상원', '한승주'] ['최재훈', '박상언'] ['김태연', '정은원', '이성곤', '오선진', '문현빈', '노시환'] ['노수광', '채은성', '유로결', '이진영', '이원석', '장진혁']\n"
     ]
    }
   ],
   "source": [
    "import csv\n",
    "\n",
    "players= []\n",
    "with open(\"./data/baseball_players.csv\", encoding=\"utf-8\") as fr:\n",
    "    reader = csv.reader(fr)\n",
    "    next(reader)                # 첫 번째, 한 줄을 읽는 건데 -> 호출함으로써 읽고 아무것도 안 하고 넘어가는, 행을 건너뛰겠다 (컬럼 제목 행임)\n",
    "    for row in reader:\n",
    "        team, pitchers, catchers, infielders, outfielders = row     # 비구조할당 \n",
    "        pitchers = pitchers.split(\"\\n\")\n",
    "        catchers = catchers.split(\"\\n\")\n",
    "        infielders = infielders.split(\"\\n\")\n",
    "        outfielders = outfielders.split(\"\\n\")\n",
    "        players.extend(pitchers + catchers + infielders + outfielders)\n",
    "        print(team, pitchers, catchers, infielders, outfielders)"
   ]
  },
  {
   "cell_type": "code",
   "execution_count": 177,
   "id": "0c499e0d-cedf-4766-a1b7-34d4108ee3bf",
   "metadata": {
    "tags": []
   },
   "outputs": [
    {
     "data": {
      "text/plain": [
       "279"
      ]
     },
     "execution_count": 177,
     "metadata": {},
     "output_type": "execute_result"
    }
   ],
   "source": [
    "len(players)"
   ]
  },
  {
   "cell_type": "markdown",
   "id": "9b6f1192-d32b-4eab-a636-55f5d97f1add",
   "metadata": {},
   "source": [
    "### 기사에서 선수 이름 카운팅하기\n",
    "- 선수 이름 리스트를 정규표현식으로 만들어 카운팅을 할 예정\n",
    "- \"양현\", \"양현종\" 선수처럼 이름외 외자인 선수가 존재할 경우, 이름이 세글자인 선수가 먼저 검색에 걸리도록 players 리스트의 순서를 한번 뒤집어준다."
   ]
  },
  {
   "cell_type": "code",
   "execution_count": 196,
   "id": "c1bc0961-fa6f-4d61-ac24-2dd54b6782e9",
   "metadata": {
    "tags": []
   },
   "outputs": [],
   "source": [
    "import re\n",
    "\n",
    "player_pattern = \"|\".join(sorted(players, reverse=True)) "
   ]
  },
  {
   "cell_type": "code",
   "execution_count": 195,
   "id": "e7765366-2d49-4f39-89a1-ebb2d96d837b",
   "metadata": {},
   "outputs": [
    {
     "data": {
      "text/plain": [
       "'후라도|황재균|황대인|홍현빈|홍창기|홍종표|홍건희|허경민|함덕주|한현희|한유섬|한승택|한승주|한석현|한동희|하준영|하영민|피렐라|플럿코|페디|페냐|켈리|추신수|최형우|최충연|최지민|최지강|최준용|최주환|최정|최재훈|최이준|최원태|최원준|최승용|최성훈|최상민|최민준|최경모|천재환|채은성|진해수|주효상|조형우|조이현|조용호|조수행|조민성|조민석|정훈|정해영|정철원|정찬헌|정주현|정은원|정우영|정우람|정수빈|정보근|전준우|전의산|전상현|전병우|전민재|장현식|장진혁|장승현|장성우|장민재|임창민|임찬규|임준섭|임정호|임병욱|임기영|이형종|이학주|이태양|이창진|이진영|이지영|이지강|이준호|이준영|이정후|이정용|이재현|이의리|이유찬|이원석|이원석|이우성|이용준|이용규|이시원|이승현|이승현|이성규|이성곤|이선우|이상민|이병헌|이병헌|이병규|윤형준|윤정현|윤정빈|윤영철|윤명준|윤동희|윤대경|유영찬|유로결|유강남|원태인|우규민|요키시|오태양|오태곤|오지환|오재일|오윤석|오원석|오영수|오승환|오스틴|오선진|에레디아|엄상백|양현종|양현|양찬열|양의지|양석환|앤더슨|알포드|알칸타라|안치홍|안중열|안우진|안권수|신헌민|신정락|신민혁|신민재|스트레일리|슐서|수아레즈|송찬의|송승환|송명기|손아섭|손동현|소크라테스|서호철|서진용|서건창|뷰캐넌|변우혁|벤자민|백정현|백승건|배재준|반즈|박해민|박치국|박찬호|박찬혁|박종훈|박영현|박승욱|박세혁|박세진|박세웅|박성한|박상원|박상언|박민호|박민우|박명근|박동원|박경수|박건우|문현빈|문용익|문승원|문성주|문상철|문상준|문보경|문동주|메디나|맥카티|류지혁|로하스|렉스|러셀|도태훈|노진혁|노시환|노수광|노경은|남지민|나균안|김휘집|김호령|김혜성|김현수|김한별|김태훈|김태현|김태진|김태연|김태군|김진호|김진욱|김진성|김지찬|김준형|김준태|김준완|김주원|김정민|김재환|김재호|김재윤|김재웅|김재상|김윤식|김유성|김원중|김영현|김영웅|김영규|김시훈|김성현|김성진|김성윤|김성욱|김선빈|김서현|김상수|김상수|김범수|김민혁|김민우|김민식|김민수|김민성|김민석|김민|김명신|김동혁|김동헌|김동주|김대유|김대우|김기훈|김기중|김기연|김규성|김광현|김건웅|구창모|구자욱|구승민|곽빈|공민규|고효준|고종욱|고영표|고승민|고봉재|강진성|강재민|강승호|강백호|강민호|강민성'"
      ]
     },
     "execution_count": 195,
     "metadata": {},
     "output_type": "execute_result"
    }
   ],
   "source": [
    "player_pattern"
   ]
  },
  {
   "cell_type": "code",
   "execution_count": 181,
   "id": "330458b1-ce62-403d-86c4-fd153febe439",
   "metadata": {
    "tags": []
   },
   "outputs": [
    {
     "data": {
      "text/plain": [
       "'\"죄송하다는 말씀을 꼭 드리고 싶어요\"아직 프로 무대에 데뷔도 하지 않은 신인 선수가 19년차 대선배에게 사과한 이유는 무엇일까.사건(?)은 지난 해 10월 21일 잠실구장에서 일어났다. 이날 LG는 2022년 신인 선수들을 초청, 이들을 환영하는 행사를 열었다.시구는 1차지명으로 입단한 조원태가 나섰다. 조원태는 장래가 촉망받는 좌완 유망주다. 백성진 LG 스카우트팀장은 \"조원태는 인성이 좋은 선수이고 기본적으로 운동 능력이 뛰어나다. 좌투수로서 구속이 빠르고 변화구 구사 능력도 갖추고 있어 앞으로 경험이 쌓인다면 많은 발전을 기대하는 투수\"라고 평가했다.그런데 막상 잠실구장 마운드에 서니 긴장한 것일까. 조원태가 던진 공은 타석에 섰던 이용규의 몸쪽으로 향했고 하마터면 이용규의 몸에 맞을 뻔했다. 단순한 해프닝이었지만 조원태는 이용규에게 사과의 메시지를 전했다.이천 LG챔피언스파크에서 훈련에 매진하며 지난 연말을 마무리한 조원태는 시구 행사에 나섰던 당시를 떠올리며 \"신인 선수 대표로 잠실구장에서 시구를 해서 너무 영광이었는데 막상 마운드에서 너무 떨리고 많은 긴장을 했다\"라면서 \"너무 긴장한 나머지 공이 손에서 빠져 이용규 선배님을 맞출 뻔했는데 당황해서 죄송하다는 인사도 못 드렸다. 죄송하다는 말씀을 꼭 드리고 싶다\"라고 말했다.조원태는 LG의 레전드 좌완투수인 이상훈 MBC스포츠플러스 해설위원을 롤모델로 삼고 있다. \"마운드에 올라가면 안정감을 줄 수 있는 투수, 강타자를 만나도 피하지 않고 승부를 할 수 있는 투수가 되고 싶다\"는 조원태는 \"롤모델은 이상훈 선배님이다. LG 트윈스의 지명을 받고 나서 영상을 찾아보다가 이상훈 선배님의 투구 모습을 보고 닮고 싶어졌다\"라고 이야기했다.과연 올해 LG의 1차지명 신인 투수는 시구의 아픔(?)을 잊고 잠실 마운드에서 당당한 투구를 보여줄 수 있을까. 조원태는 \"LG 트윈스의 1차지명을 받아 영광스럽고 너무 기쁘다. 구단에서 지명을 잘했다는 말을 들을 수 있도록 더욱 열심히 해서 꼭 마운드에서 좋은 모습을 보여 드리고 싶다\"라면서 \"우선 1군에 올라가는 것이 목표이고 1군에서 내 역할을 맡는 것이 목표이다\"라고 당찬 포부도 드러냈다.[조원태. 사진 = 마이데일리 DB](윤욱재 기자 wj38@mydaily.co.kr)'"
      ]
     },
     "execution_count": 181,
     "metadata": {},
     "output_type": "execute_result"
    }
   ],
   "source": [
    "df[\"content\"][1]"
   ]
  },
  {
   "cell_type": "markdown",
   "id": "5f5e6fbf-4b4b-48d9-9361-b10f77192f6f",
   "metadata": {},
   "source": [
    "- 정규표현식의 findall 함수를 이용해서 기사에 등장한 선수 이름을 찾습니다.\n",
    "- 길이가 긴 기사와 짧은 기사 간의 형평성을 위해서 중복을 제거해줍니다."
   ]
  },
  {
   "cell_type": "code",
   "execution_count": 182,
   "id": "78d846e0-70be-4cb6-a61e-fd4bd1429de9",
   "metadata": {
    "tags": []
   },
   "outputs": [],
   "source": [
    "example_content = \"이정후가 양현종을 상대로 홈런을 쳤습니다. 이정후는 팀을 승리로 이끌었습니다.\""
   ]
  },
  {
   "cell_type": "code",
   "execution_count": 183,
   "id": "63988f24-ad4a-4eb2-9050-587d0dbe0de7",
   "metadata": {
    "tags": []
   },
   "outputs": [
    {
     "data": {
      "text/plain": [
       "['이정후', '양현종', '이정후']"
      ]
     },
     "execution_count": 183,
     "metadata": {},
     "output_type": "execute_result"
    }
   ],
   "source": [
    "re.findall(player_pattern, example_content)"
   ]
  },
  {
   "cell_type": "code",
   "execution_count": null,
   "id": "c0d96e14-1120-4282-b259-14bd44393b3f",
   "metadata": {},
   "outputs": [],
   "source": []
  },
  {
   "cell_type": "markdown",
   "id": "1f784b42-b2e4-4ac5-b237-3238658db023",
   "metadata": {},
   "source": [
    "## 선수별 2022년 시계열 뉴스 기사 언급 횟수 데이터 셋 만들기\n",
    "이제 각 선수별로 2022년 누적 언급 횟수를 카운팅하는 데이터 셋을 만들어줍니다.\n",
    "\n",
    "### 1. 각 일자별 기사들을 가져와서 선수 언급 횟수를 카운팅하여 딕셔너리 형태로 만듭니다. \n",
    "- key: 날짜 value: 선수 언급 횟수 Counter\n",
    "- Counter의 key: 선수 이름, value: 언급 횟수\n",
    "\n",
    "```python\n",
    "date_counter = {\n",
    "    \"20230302\": {\n",
    "        \"이정후\": 5,\n",
    "        \"김광현\": 10,\n",
    "        ...\n",
    "    },\n",
    "    \"20230731\": {\n",
    "        \"이정후\": 12,\n",
    "        \"김광현\": 8\n",
    "    },\n",
    "    ...\n",
    "}\n",
    "```\n",
    "\n"
   ]
  },
  {
   "cell_type": "code",
   "execution_count": 199,
   "id": "835207f5-e08f-4ebf-83be-e99f2257690f",
   "metadata": {},
   "outputs": [],
   "source": [
    "from collections import Counter, defaultdict\n",
    "\n",
    "date_counter = defaultdict(Counter)    # 디폴트 값이 정해져 있는 딕셔너리 \n",
    "# 딕셔너리인데 value로 counter를 갖게 됨"
   ]
  },
  {
   "cell_type": "code",
   "execution_count": 200,
   "id": "9fd9e6e2-c006-4377-bb14-9dd194c26821",
   "metadata": {
    "tags": []
   },
   "outputs": [],
   "source": [
    "df = df.dropna()"
   ]
  },
  {
   "cell_type": "code",
   "execution_count": 201,
   "id": "e2323d9a-82bb-4df7-a248-0f0f9af684b6",
   "metadata": {
    "tags": []
   },
   "outputs": [],
   "source": [
    "for i in range(len(df)):\n",
    "    row = df.iloc[i]\n",
    "    dt = row[\"datetime\"]\n",
    "    content = row[\"content\"]\n",
    "    matches = re.findall(player_pattern, content)\n",
    "    match_counter = Counter(matches)\n",
    "    date_counter[dt] += match_counter\n",
    "    # if matches:\n",
    "    #     print(content)\n",
    "    #     print(matches)\n",
    "    #     break"
   ]
  },
  {
   "cell_type": "code",
   "execution_count": 194,
   "id": "ed1903f8-6883-4253-be9c-377e8092f330",
   "metadata": {
    "tags": []
   },
   "outputs": [
    {
     "data": {
      "text/plain": [
       "Counter()"
      ]
     },
     "execution_count": 194,
     "metadata": {},
     "output_type": "execute_result"
    }
   ],
   "source": [
    "date_counter[\"20221010\"]"
   ]
  },
  {
   "cell_type": "markdown",
   "id": "4f71120f-cf94-46f1-acb8-6f0cceda8938",
   "metadata": {},
   "source": [
    "### 2. 2022년 각 일자를 나타내는 리스트를 만들어 줌"
   ]
  },
  {
   "cell_type": "code",
   "execution_count": 202,
   "id": "7255a7d6-bf20-4b91-94bd-4d00c7734b2a",
   "metadata": {},
   "outputs": [],
   "source": [
    "from datetime import datetime,timedelta"
   ]
  },
  {
   "cell_type": "code",
   "execution_count": 203,
   "id": "5c1ee527-a646-44e4-9f4b-58439e194e98",
   "metadata": {
    "tags": []
   },
   "outputs": [],
   "source": [
    "start_date = datetime(year=2022, month=1, day=1)"
   ]
  },
  {
   "cell_type": "code",
   "execution_count": 204,
   "id": "9820584a-ca33-45fb-8de0-b23c5bd05fa2",
   "metadata": {
    "tags": []
   },
   "outputs": [
    {
     "data": {
      "text/plain": [
       "datetime.datetime(2022, 1, 2, 0, 0)"
      ]
     },
     "execution_count": 204,
     "metadata": {},
     "output_type": "execute_result"
    }
   ],
   "source": [
    "start_date + timedelta(days=1)"
   ]
  },
  {
   "cell_type": "code",
   "execution_count": 205,
   "id": "ae5d9684-b7b8-4ab8-873a-71a8ddf0b45d",
   "metadata": {
    "tags": []
   },
   "outputs": [],
   "source": [
    "date_list = [start_date + timedelta(days= x) for x in range(365)]"
   ]
  },
  {
   "cell_type": "code",
   "execution_count": 206,
   "id": "56fb0de7-1317-453b-9169-3357d3190ff3",
   "metadata": {
    "tags": []
   },
   "outputs": [],
   "source": [
    "#date_list"
   ]
  },
  {
   "cell_type": "markdown",
   "id": "e2d16da3-0702-43c1-b115-6746ea398868",
   "metadata": {
    "tags": []
   },
   "source": [
    "### 3. 선수별로 2022년 시간 흐름에 따른 누적 언급 횟수 집계하기\n",
    "각 선수들의 이름을 key, 2022년도 일자 흐름에 따라서 누적 언급 횟수 list를 value로 갖도록 딕셔너리를 만듬.\n",
    "- key: 선수 이름, value: 각 일자별 누적 언급 횟수\n",
    "```python\n",
    "player_count_dict = {\n",
    "    \"이정후\": [5, 7, 16, 29, 33, ...],\n",
    "    \"김광현\": [1, 1, 5, 8, 10, ...]\n",
    "}\n",
    "```"
   ]
  },
  {
   "cell_type": "code",
   "execution_count": 159,
   "id": "c5376856-2f4c-429e-833a-e1dde569df5b",
   "metadata": {
    "tags": []
   },
   "outputs": [],
   "source": [
    "player_count_dict = {player:[0 for x in range(365)] for player in players}"
   ]
  },
  {
   "cell_type": "code",
   "execution_count": 160,
   "id": "edb6a75f-8f42-46ed-9a8c-299e0fb0fb73",
   "metadata": {
    "tags": []
   },
   "outputs": [],
   "source": [
    "for i,date in enumerate(date_list):\n",
    "    date_int = int(date.strftime(\"%Y%m%d\"))\n",
    "    cur_counter = date_counter[date_int]\n",
    "    if i > 0:\n",
    "        # 모든 선수의 오늘 언급된 횟수에 어제 언급된 횟수를 적용\n",
    "        for player in players:\n",
    "            player_count_dict[player][i] = player_count_dict[player][i-1]\n",
    "     # 그 다음, 오늘 실제로 언급된 횟수를 더해줌   \n",
    "    for player in cur_counter:\n",
    "        player_count_dict[player][i] += cur_counter[player]\n",
    "    #print(date_int, cur_counter)\n",
    "    # print(date, type(date))\n",
    "    # print(date.strftime(\"%Y%m%d\"), type(date.strftime(\"%Y%m%d\")))\n",
    "    #break"
   ]
  },
  {
   "cell_type": "code",
   "execution_count": 157,
   "id": "405d8473-5d3d-49f3-b8fb-a1d347ccecc1",
   "metadata": {
    "tags": []
   },
   "outputs": [],
   "source": [
    "player_count_dict = {player: [0 for x in range(len(date_list))] for player in players}\n",
    "    \n",
    "for i, date in enumerate(date_list):\n",
    "    cur_counter = date_counter[date]\n",
    "        # 이전 날짜에 언급 횟수를 가져옴\n",
    "    if i > 0:\n",
    "        for player in players:\n",
    "            player_count_dict[player][i] = player_count_dict[player][i-1]\n",
    "        # 현재 날짜에 언급된 횟수를 더해줌\n",
    "    for player in cur_counter:\n",
    "        player_count_dict[player][i] += cur_counter[player]"
   ]
  },
  {
   "cell_type": "code",
   "execution_count": 161,
   "id": "137ac540-9621-4883-831e-fd91dcb3996d",
   "metadata": {},
   "outputs": [
    {
     "name": "stdout",
     "output_type": "stream",
     "text": [
      "[0, 0, 0, 0, 0, 0, 0, 0, 0, 0, 0, 0, 0, 0, 0, 0, 0, 0, 0, 0, 0, 0, 0, 0, 0, 0, 0, 0, 0, 0, 0, 0, 0, 0, 0, 0, 0, 0, 0, 0, 0, 0, 0, 0, 0, 0, 0, 0, 0, 0, 0, 0, 0, 0, 0, 0, 0, 0, 0, 0, 0, 0, 0, 0, 0, 0, 0, 0, 0, 0, 0, 0, 0, 0, 0, 0, 0, 0, 0, 0, 0, 0, 0, 0, 0, 0, 0, 0, 0, 0, 0, 0, 0, 0, 0, 0, 0, 0, 0, 0, 0, 0, 0, 0, 0, 0, 0, 0, 0, 0, 0, 0, 0, 0, 0, 0, 0, 0, 0, 0, 0, 0, 0, 0, 0, 0, 0, 0, 0, 0, 0, 0, 0, 0, 0, 0, 0, 0, 0, 0, 0, 0, 0, 0, 0, 0, 0, 0, 0, 0, 0, 0, 0, 0, 0, 0, 0, 0, 0, 0, 0, 0, 0, 0, 0, 0, 0, 0, 0, 0, 0, 0, 0, 0, 0, 0, 0, 0, 0, 0, 0, 0, 0, 0, 0, 0, 0, 0, 0, 0, 0, 0, 0, 0, 0, 0, 0, 0, 0, 0, 0, 0, 0, 0, 0, 0, 0, 0, 0, 0, 0, 0, 0, 0, 0, 0, 0, 0, 0, 0, 0, 0, 0, 0, 0, 0, 0, 0, 0, 0, 0, 0, 0, 0, 0, 0, 0, 0, 0, 0, 0, 0, 0, 0, 0, 0, 0, 0, 0, 0, 0, 0, 0, 0, 0, 0, 0, 0, 0, 0, 0, 0, 0, 0, 0, 0, 0, 0, 0, 0, 0, 0, 0, 0, 0, 0, 0, 0, 0, 0, 0, 0, 0, 0, 0, 0, 0, 0, 0, 0, 0, 0, 0, 0, 0, 0, 0, 0, 0, 0, 0, 0, 0, 0, 0, 0, 0, 0, 0, 0, 0, 0, 0, 0, 0, 0, 0, 0, 0, 0, 0, 0, 0, 0, 0, 0, 0, 0, 0, 0, 0, 0, 0, 0, 0, 0, 0, 0, 0, 0, 0, 0, 0, 0, 0, 0, 0, 0, 0, 0, 0, 0, 0, 0, 0, 0, 0, 0, 0, 0, 0, 0, 0, 0, 0]\n"
     ]
    }
   ],
   "source": [
    "print(player_count_dict[\"이정후\"])"
   ]
  },
  {
   "cell_type": "code",
   "execution_count": null,
   "id": "1ca3f81a-a14c-4724-b3a1-8fb3ebefb2ce",
   "metadata": {},
   "outputs": [],
   "source": []
  },
  {
   "cell_type": "markdown",
   "id": "b7cb27a7-f884-461e-93f1-da981c8d7b78",
   "metadata": {},
   "source": [
    "## 결과 출력하기"
   ]
  },
  {
   "cell_type": "code",
   "execution_count": 133,
   "id": "24798bcb-ac58-4084-b47e-fe8fd2f10b16",
   "metadata": {
    "tags": []
   },
   "outputs": [
    {
     "data": {
      "text/plain": [
       "'2022-01-01'"
      ]
     },
     "execution_count": 133,
     "metadata": {},
     "output_type": "execute_result"
    }
   ],
   "source": [
    "date_list[0].strftime(\"%Y-%m-%d\")"
   ]
  },
  {
   "cell_type": "code",
   "execution_count": 135,
   "id": "4df32c07-b109-4add-9265-4280966957ca",
   "metadata": {},
   "outputs": [],
   "source": [
    "with open(\"./data/baseball_timeseriess.csv\", \"w\", encoding=\"utf-8\")as fw:\n",
    "    writer = csv.writer(fw)\n",
    "    writer.writerow([\"name\", \"image\"] + [x.strftime(\"%Y-%m-%d\") for x in date_list])\n",
    "    for player_key in player_count_dict:\n",
    "        writer.writerow([player_key,\"\"] + player_count_dict[player_key])"
   ]
  },
  {
   "cell_type": "code",
   "execution_count": null,
   "id": "55f1b028-9dfc-4868-9002-8f6952ff63dd",
   "metadata": {},
   "outputs": [],
   "source": []
  }
 ],
 "metadata": {
  "kernelspec": {
   "display_name": "Python 3 (ipykernel)",
   "language": "python",
   "name": "python3"
  },
  "language_info": {
   "codemirror_mode": {
    "name": "ipython",
    "version": 3
   },
   "file_extension": ".py",
   "mimetype": "text/x-python",
   "name": "python",
   "nbconvert_exporter": "python",
   "pygments_lexer": "ipython3",
   "version": "3.11.5"
  }
 },
 "nbformat": 4,
 "nbformat_minor": 5
}
