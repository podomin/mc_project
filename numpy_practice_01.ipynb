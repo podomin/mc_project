{
 "cells": [
  {
   "cell_type": "markdown",
   "id": "614c4c9d-ae07-4086-80f9-a2c7223c7981",
   "metadata": {},
   "source": [
    "## 복습 퀴즈"
   ]
  },
  {
   "cell_type": "code",
   "execution_count": 2,
   "id": "f038f157-23b4-4cac-8a53-485e58abb708",
   "metadata": {},
   "outputs": [],
   "source": [
    "import numpy as np"
   ]
  },
  {
   "cell_type": "markdown",
   "id": "a4ae9aeb-8bce-4c07-9fc9-690e2652d29e",
   "metadata": {},
   "source": [
    "### 아래 ndarray들을 생성해보세요"
   ]
  },
  {
   "cell_type": "code",
   "execution_count": 4,
   "id": "72e5385c",
   "metadata": {},
   "outputs": [
    {
     "data": {
      "text/plain": [
       "array([[1, 3],\n",
       "       [5, 3]])"
      ]
     },
     "execution_count": 4,
     "metadata": {},
     "output_type": "execute_result"
    }
   ],
   "source": [
    "np.array([[1,3],[5,3]])"
   ]
  },
  {
   "cell_type": "code",
   "execution_count": 8,
   "id": "688ce16a-43ad-4043-946c-f2e2d600c92d",
   "metadata": {},
   "outputs": [
    {
     "data": {
      "text/plain": [
       "array([[[1, 1, 1],\n",
       "        [1, 1, 1]],\n",
       "\n",
       "       [[1, 1, 1],\n",
       "        [1, 1, 1]]])"
      ]
     },
     "execution_count": 8,
     "metadata": {},
     "output_type": "execute_result"
    }
   ],
   "source": [
    "np.ones([2,2,3], dtype=np.int32)"
   ]
  },
  {
   "cell_type": "code",
   "execution_count": 10,
   "id": "c12a2edf-d623-4d44-8473-6ce4181de349",
   "metadata": {},
   "outputs": [
    {
     "data": {
      "text/plain": [
       "array([[3, 3, 3],\n",
       "       [3, 3, 3]])"
      ]
     },
     "execution_count": 10,
     "metadata": {},
     "output_type": "execute_result"
    }
   ],
   "source": [
    "np.full([2,3],3)"
   ]
  },
  {
   "cell_type": "code",
   "execution_count": 45,
   "id": "1cac126d-7772-46f2-b090-d8f062aa7ce5",
   "metadata": {},
   "outputs": [
    {
     "data": {
      "text/plain": [
       "array([100, 105, 110, 115, 120, 125, 130, 135, 140, 145, 150, 155, 160,\n",
       "       165, 170, 175, 180, 185, 190, 195])"
      ]
     },
     "execution_count": 45,
     "metadata": {},
     "output_type": "execute_result"
    }
   ],
   "source": [
    "np.arange(100,200,5)"
   ]
  },
  {
   "cell_type": "markdown",
   "id": "b2afb67b-8474-429f-a150-e480ae7ba326",
   "metadata": {},
   "source": [
    "### 주어진 ndarray의 형태를 reshape와 transpose를 이용해서 바꿔보세요"
   ]
  },
  {
   "cell_type": "code",
   "execution_count": 12,
   "id": "96d7c4a7-dc78-48ab-8469-0a5148e9de7c",
   "metadata": {},
   "outputs": [],
   "source": [
    "sample = np.arange(1, 17, 1)"
   ]
  },
  {
   "cell_type": "code",
   "execution_count": 13,
   "id": "be59db56-d84e-41bf-9a36-e54cf24f2c73",
   "metadata": {},
   "outputs": [
    {
     "data": {
      "text/plain": [
       "array([ 1,  2,  3,  4,  5,  6,  7,  8,  9, 10, 11, 12, 13, 14, 15, 16])"
      ]
     },
     "execution_count": 13,
     "metadata": {},
     "output_type": "execute_result"
    }
   ],
   "source": [
    "sample"
   ]
  },
  {
   "cell_type": "code",
   "execution_count": 14,
   "id": "0756cc85",
   "metadata": {
    "scrolled": true
   },
   "outputs": [
    {
     "data": {
      "text/plain": [
       "array([[[ 1,  2],\n",
       "        [ 3,  4],\n",
       "        [ 5,  6],\n",
       "        [ 7,  8]],\n",
       "\n",
       "       [[ 9, 10],\n",
       "        [11, 12],\n",
       "        [13, 14],\n",
       "        [15, 16]]])"
      ]
     },
     "execution_count": 14,
     "metadata": {},
     "output_type": "execute_result"
    }
   ],
   "source": [
    "sample.reshape([2,4,2])"
   ]
  },
  {
   "cell_type": "code",
   "execution_count": 24,
   "id": "e131b9da",
   "metadata": {
    "scrolled": true
   },
   "outputs": [
    {
     "data": {
      "text/plain": [
       "array([[ 1,  2,  3,  4],\n",
       "       [ 5,  6,  7,  8],\n",
       "       [ 9, 10, 11, 12],\n",
       "       [13, 14, 15, 16]])"
      ]
     },
     "execution_count": 24,
     "metadata": {},
     "output_type": "execute_result"
    }
   ],
   "source": [
    "sample.reshape([4,4])"
   ]
  },
  {
   "cell_type": "code",
   "execution_count": 25,
   "id": "fc49c819",
   "metadata": {},
   "outputs": [
    {
     "data": {
      "text/plain": [
       "array([[ 1,  5,  9, 13],\n",
       "       [ 2,  6, 10, 14],\n",
       "       [ 3,  7, 11, 15],\n",
       "       [ 4,  8, 12, 16]])"
      ]
     },
     "execution_count": 25,
     "metadata": {},
     "output_type": "execute_result"
    }
   ],
   "source": [
    "sample.reshape([4,4]).transpose()"
   ]
  },
  {
   "cell_type": "markdown",
   "id": "f217d400-d373-4ce0-951b-d8dd396ada8e",
   "metadata": {},
   "source": [
    "### 축을 이용한 접근으로 주어진 ndarray에서 해당 값들을 찾아보세요"
   ]
  },
  {
   "cell_type": "code",
   "execution_count": 32,
   "id": "ef486d33-9e1b-450d-a1c3-d51d08c9544a",
   "metadata": {},
   "outputs": [],
   "source": [
    "sample = np.arange(1, 17, 1).reshape(4, 2, 2)"
   ]
  },
  {
   "cell_type": "code",
   "execution_count": 33,
   "id": "a115ddd5-4fb1-4fc8-ae13-e20f0f9df1a8",
   "metadata": {},
   "outputs": [
    {
     "data": {
      "text/plain": [
       "array([[[ 1,  2],\n",
       "        [ 3,  4]],\n",
       "\n",
       "       [[ 5,  6],\n",
       "        [ 7,  8]],\n",
       "\n",
       "       [[ 9, 10],\n",
       "        [11, 12]],\n",
       "\n",
       "       [[13, 14],\n",
       "        [15, 16]]])"
      ]
     },
     "execution_count": 33,
     "metadata": {},
     "output_type": "execute_result"
    }
   ],
   "source": [
    "sample"
   ]
  },
  {
   "cell_type": "code",
   "execution_count": null,
   "id": "6fa5898e",
   "metadata": {},
   "outputs": [],
   "source": []
  },
  {
   "cell_type": "code",
   "execution_count": 35,
   "id": "14f0a541-2fe2-4f2b-8642-90597d809eae",
   "metadata": {},
   "outputs": [
    {
     "data": {
      "text/plain": [
       "array([[ 3,  4],\n",
       "       [ 7,  8],\n",
       "       [11, 12],\n",
       "       [15, 16]])"
      ]
     },
     "execution_count": 35,
     "metadata": {},
     "output_type": "execute_result"
    }
   ],
   "source": [
    "sample[:,1]"
   ]
  },
  {
   "cell_type": "code",
   "execution_count": 43,
   "id": "c61240f8",
   "metadata": {
    "scrolled": true
   },
   "outputs": [
    {
     "data": {
      "text/plain": [
       "array([[ 2,  4],\n",
       "       [ 6,  8],\n",
       "       [10, 12],\n",
       "       [14, 16]])"
      ]
     },
     "execution_count": 43,
     "metadata": {},
     "output_type": "execute_result"
    }
   ],
   "source": [
    "sample[:,:,1]"
   ]
  },
  {
   "cell_type": "code",
   "execution_count": 44,
   "id": "2c5f615c-99e7-4df6-abcb-0baeda58291c",
   "metadata": {},
   "outputs": [
    {
     "data": {
      "text/plain": [
       "array([ 2,  4,  6,  8, 10, 12, 14, 16])"
      ]
     },
     "execution_count": 44,
     "metadata": {},
     "output_type": "execute_result"
    }
   ],
   "source": [
    "sample[:,:,1].flatten()"
   ]
  },
  {
   "cell_type": "code",
   "execution_count": null,
   "id": "7f30ad2f-c313-4dd9-bd8e-5257c4c05197",
   "metadata": {},
   "outputs": [],
   "source": []
  }
 ],
 "metadata": {
  "kernelspec": {
   "display_name": "Python 3 (ipykernel)",
   "language": "python",
   "name": "python3"
  },
  "language_info": {
   "codemirror_mode": {
    "name": "ipython",
    "version": 3
   },
   "file_extension": ".py",
   "mimetype": "text/x-python",
   "name": "python",
   "nbconvert_exporter": "python",
   "pygments_lexer": "ipython3",
   "version": "3.11.5"
  }
 },
 "nbformat": 4,
 "nbformat_minor": 5
}
