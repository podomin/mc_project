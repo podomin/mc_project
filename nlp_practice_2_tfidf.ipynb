{
 "cells": [
  {
   "cell_type": "markdown",
   "id": "816b6255-672c-4ad5-880c-98c70728e5a4",
   "metadata": {},
   "source": [
    "## 연습 문제 2. 영화 추천하기\n",
    "\n",
    "데이터 셋 출처: https://www.kaggle.com/datasets/hijest/genre-classification-dataset-imdb\n",
    "\n",
    "IMDB는 영화 리뷰를 제공하는 웹 서비스입니다. 이 사이트에서 크롤링한 영화 제목, 장르, 줄거리 데이터 셋을 가지고 간단한 추천을 구현해보고자 합니다. 사용자는 자연어 형태로 본인이 원하는 영화의 장르, 특징, 줄거리 등을 입력하면 tf-idf를 이용하여 적절한 영화를 추천해주는 시스템을 개발해보세요."
   ]
  },
  {
   "cell_type": "code",
   "execution_count": 94,
   "id": "f07e0ecd-d237-4fbd-ad68-5a5e93aace92",
   "metadata": {
    "tags": []
   },
   "outputs": [],
   "source": [
    "import pandas as pd\n",
    "from tqdm import tqdm\n",
    "\n",
    "tqdm.pandas()\n",
    "df = pd.read_csv(\"./data/movies_preprocessed.csv\", encoding=\"utf-8\")\n"
   ]
  },
  {
   "cell_type": "code",
   "execution_count": 95,
   "id": "1b819955-4922-45a9-bf5b-902ad622fb6d",
   "metadata": {
    "tags": []
   },
   "outputs": [
    {
     "name": "stderr",
     "output_type": "stream",
     "text": [
      "100%|██████████████████████████████████████████████████████████████████████████| 54214/54214 [00:07<00:00, 7520.18it/s]\n"
     ]
    }
   ],
   "source": [
    "df[\"content_tokens\"] = df[\"content_tokens\"].progress_apply(lambda x: eval(x))"
   ]
  },
  {
   "cell_type": "code",
   "execution_count": 97,
   "id": "05b7fe48-311b-414e-8f98-b7f1729648f7",
   "metadata": {
    "tags": []
   },
   "outputs": [
    {
     "data": {
      "text/html": [
       "<div>\n",
       "<style scoped>\n",
       "    .dataframe tbody tr th:only-of-type {\n",
       "        vertical-align: middle;\n",
       "    }\n",
       "\n",
       "    .dataframe tbody tr th {\n",
       "        vertical-align: top;\n",
       "    }\n",
       "\n",
       "    .dataframe thead th {\n",
       "        text-align: right;\n",
       "    }\n",
       "</style>\n",
       "<table border=\"1\" class=\"dataframe\">\n",
       "  <thead>\n",
       "    <tr style=\"text-align: right;\">\n",
       "      <th></th>\n",
       "      <th>title</th>\n",
       "      <th>genre</th>\n",
       "      <th>content</th>\n",
       "      <th>content_tokens</th>\n",
       "    </tr>\n",
       "  </thead>\n",
       "  <tbody>\n",
       "    <tr>\n",
       "      <th>0</th>\n",
       "      <td>Oscar et la dame rose (2009)</td>\n",
       "      <td>drama</td>\n",
       "      <td>Listening in to a conversation between his doc...</td>\n",
       "      <td>[listen, convers, hi, doctor, parent, ,, 10, -...</td>\n",
       "    </tr>\n",
       "    <tr>\n",
       "      <th>1</th>\n",
       "      <td>Cupid (1997)</td>\n",
       "      <td>thriller</td>\n",
       "      <td>A brother and sister with a past incestuous re...</td>\n",
       "      <td>[brother, sister, past, incestu, relationship,...</td>\n",
       "    </tr>\n",
       "    <tr>\n",
       "      <th>2</th>\n",
       "      <td>Young, Wild and Wonderful (1980)</td>\n",
       "      <td>adult</td>\n",
       "      <td>As the bus empties the students for their fiel...</td>\n",
       "      <td>[bu, empti, student, field, trip, museum, natu...</td>\n",
       "    </tr>\n",
       "    <tr>\n",
       "      <th>3</th>\n",
       "      <td>The Secret Sin (1915)</td>\n",
       "      <td>drama</td>\n",
       "      <td>To help their unemployed father make ends meet...</td>\n",
       "      <td>[help, unemploy, father, make, end, meet, ,, e...</td>\n",
       "    </tr>\n",
       "    <tr>\n",
       "      <th>4</th>\n",
       "      <td>The Unrecovered (2007)</td>\n",
       "      <td>drama</td>\n",
       "      <td>The film's title refers not only to the un-rec...</td>\n",
       "      <td>[film, ', titl, refer, onli, un, -, recov, bod...</td>\n",
       "    </tr>\n",
       "    <tr>\n",
       "      <th>...</th>\n",
       "      <td>...</td>\n",
       "      <td>...</td>\n",
       "      <td>...</td>\n",
       "      <td>...</td>\n",
       "    </tr>\n",
       "    <tr>\n",
       "      <th>54209</th>\n",
       "      <td>\"Bonino\" (1953)</td>\n",
       "      <td>comedy</td>\n",
       "      <td>This short-lived NBC live sitcom centered on B...</td>\n",
       "      <td>[thi, short, -, live, nbc, live, sitcom, cente...</td>\n",
       "    </tr>\n",
       "    <tr>\n",
       "      <th>54210</th>\n",
       "      <td>Dead Girls Don't Cry (????)</td>\n",
       "      <td>horror</td>\n",
       "      <td>The NEXT Generation of EXPLOITATION. The siste...</td>\n",
       "      <td>[next, gener, exploit, ., sister, kapa, -, bay...</td>\n",
       "    </tr>\n",
       "    <tr>\n",
       "      <th>54211</th>\n",
       "      <td>Ronald Goedemondt: Ze bestaan echt (2008)</td>\n",
       "      <td>documentary</td>\n",
       "      <td>Ze bestaan echt, is a stand-up comedy about gr...</td>\n",
       "      <td>[ze, bestaan, echt, ,, stand, -, comedi, grow,...</td>\n",
       "    </tr>\n",
       "    <tr>\n",
       "      <th>54212</th>\n",
       "      <td>Make Your Own Bed (1944)</td>\n",
       "      <td>comedy</td>\n",
       "      <td>Walter and Vivian live in the country and have...</td>\n",
       "      <td>[walter, vivian, live, countri, difficult, tim...</td>\n",
       "    </tr>\n",
       "    <tr>\n",
       "      <th>54213</th>\n",
       "      <td>Nature's Fury: Storm of the Century (2006)</td>\n",
       "      <td>history</td>\n",
       "      <td>On Labor Day Weekend, 1935, the most intense h...</td>\n",
       "      <td>[labor, day, weekend, ,, 1935, ,, intens, hurr...</td>\n",
       "    </tr>\n",
       "  </tbody>\n",
       "</table>\n",
       "<p>54214 rows × 4 columns</p>\n",
       "</div>"
      ],
      "text/plain": [
       "                                            title        genre  \\\n",
       "0                    Oscar et la dame rose (2009)        drama   \n",
       "1                                    Cupid (1997)     thriller   \n",
       "2                Young, Wild and Wonderful (1980)        adult   \n",
       "3                           The Secret Sin (1915)        drama   \n",
       "4                          The Unrecovered (2007)        drama   \n",
       "...                                           ...          ...   \n",
       "54209                             \"Bonino\" (1953)       comedy   \n",
       "54210                 Dead Girls Don't Cry (????)       horror   \n",
       "54211   Ronald Goedemondt: Ze bestaan echt (2008)  documentary   \n",
       "54212                    Make Your Own Bed (1944)       comedy   \n",
       "54213  Nature's Fury: Storm of the Century (2006)      history   \n",
       "\n",
       "                                                 content  \\\n",
       "0      Listening in to a conversation between his doc...   \n",
       "1      A brother and sister with a past incestuous re...   \n",
       "2      As the bus empties the students for their fiel...   \n",
       "3      To help their unemployed father make ends meet...   \n",
       "4      The film's title refers not only to the un-rec...   \n",
       "...                                                  ...   \n",
       "54209  This short-lived NBC live sitcom centered on B...   \n",
       "54210  The NEXT Generation of EXPLOITATION. The siste...   \n",
       "54211  Ze bestaan echt, is a stand-up comedy about gr...   \n",
       "54212  Walter and Vivian live in the country and have...   \n",
       "54213  On Labor Day Weekend, 1935, the most intense h...   \n",
       "\n",
       "                                          content_tokens  \n",
       "0      [listen, convers, hi, doctor, parent, ,, 10, -...  \n",
       "1      [brother, sister, past, incestu, relationship,...  \n",
       "2      [bu, empti, student, field, trip, museum, natu...  \n",
       "3      [help, unemploy, father, make, end, meet, ,, e...  \n",
       "4      [film, ', titl, refer, onli, un, -, recov, bod...  \n",
       "...                                                  ...  \n",
       "54209  [thi, short, -, live, nbc, live, sitcom, cente...  \n",
       "54210  [next, gener, exploit, ., sister, kapa, -, bay...  \n",
       "54211  [ze, bestaan, echt, ,, stand, -, comedi, grow,...  \n",
       "54212  [walter, vivian, live, countri, difficult, tim...  \n",
       "54213  [labor, day, weekend, ,, 1935, ,, intens, hurr...  \n",
       "\n",
       "[54214 rows x 4 columns]"
      ]
     },
     "execution_count": 97,
     "metadata": {},
     "output_type": "execute_result"
    }
   ],
   "source": [
    "df"
   ]
  },
  {
   "cell_type": "code",
   "execution_count": 100,
   "id": "66eaa8b9-99f7-4167-8053-ec592a0f2cb9",
   "metadata": {
    "tags": []
   },
   "outputs": [
    {
     "data": {
      "text/plain": [
       "array(['Listening in to a conversation between his doctor and parents, 10-year-old Oscar learns what nobody has the courage to tell him. He only has a few weeks to live. Furious, he refuses to speak to anyone except straight-talking Rose, the lady in pink he meets on the hospital stairs. As Christmas approaches, Rose uses her fantastical experiences as a professional wrestler, her imagination, wit and charm to allow Oscar to live life and love to the full, in the company of his friends Pop Corn, Einstein, Bacon and childhood sweetheart Peggy Blue.\\n'],\n",
       "      dtype=object)"
      ]
     },
     "execution_count": 100,
     "metadata": {},
     "output_type": "execute_result"
    }
   ],
   "source": [
    "df[df[\"title\"]==\"Oscar et la dame rose (2009)\"][\"content\"].values"
   ]
  },
  {
   "cell_type": "code",
   "execution_count": 96,
   "id": "663a7e3c-0c53-4d01-ac54-6e34d412f7a8",
   "metadata": {
    "tags": []
   },
   "outputs": [],
   "source": [
    "for i in range(len(df[\"title\"])):\n",
    "    df[\"content_tokens\"][i].append(df[\"genre\"][i])"
   ]
  },
  {
   "cell_type": "code",
   "execution_count": 99,
   "id": "c864d333-4746-42ae-9cd6-a62bd95be158",
   "metadata": {
    "tags": []
   },
   "outputs": [
    {
     "name": "stdout",
     "output_type": "stream",
     "text": [
      "Does 'combined' column contain 'drama'? : True\n"
     ]
    }
   ],
   "source": [
    "contains_drama = any(df['content_tokens'].str.contains('documentary', case=False))\n",
    "print(\"Does 'content_tokens' column contain 'drama'? :\", contains_drama)"
   ]
  },
  {
   "cell_type": "code",
   "execution_count": 131,
   "id": "a086311c-9b0f-49b3-b552-063fe974cb8d",
   "metadata": {
    "tags": []
   },
   "outputs": [
    {
     "data": {
      "text/plain": [
       "array([list(['listen', 'convers', 'hi', 'doctor', 'parent', ',', '10', '-', 'year', '-', 'old', 'oscar', 'learn', 'nobodi', 'ha', 'courag', 'tell', '.', 'onli', 'ha', 'week', 'live', '.', 'furiou', ',', 'refus', 'speak', 'anyon', 'except', 'straight', '-', 'talk', 'rose', ',', 'ladi', 'pink', 'meet', 'hospit', 'stair', '.', 'christma', 'approach', ',', 'rose', 'use', 'fantast', 'experi', 'profession', 'wrestler', ',', 'imagin', ',', 'wit', 'charm', 'allow', 'oscar', 'live', 'life', 'love', 'full', ',', 'compani', 'hi', 'friend', 'pop', 'corn', ',', 'einstein', ',', 'bacon', 'childhood', 'sweetheart', 'peggi', 'blue', '.', 'drama'])],\n",
       "      dtype=object)"
      ]
     },
     "execution_count": 131,
     "metadata": {},
     "output_type": "execute_result"
    }
   ],
   "source": [
    "df[df[\"title\"]==\"Oscar et la dame rose (2009)\"][\"content_tokens\"].values"
   ]
  },
  {
   "cell_type": "code",
   "execution_count": 101,
   "id": "41d55af2-c0ab-44eb-a99c-1e6364ec7c6a",
   "metadata": {
    "tags": []
   },
   "outputs": [
    {
     "data": {
      "text/plain": [
       "array(['drama', 'thriller', 'adult', ..., 'documentary', 'comedy',\n",
       "       'history'], dtype=object)"
      ]
     },
     "execution_count": 101,
     "metadata": {},
     "output_type": "execute_result"
    }
   ],
   "source": [
    "df[\"genre\"].values"
   ]
  },
  {
   "cell_type": "code",
   "execution_count": null,
   "id": "7c01ddce-351e-4765-802d-5cff974be4c6",
   "metadata": {},
   "outputs": [],
   "source": []
  },
  {
   "cell_type": "code",
   "execution_count": 102,
   "id": "64ebcbcb-cece-492c-a458-87baf2e2a625",
   "metadata": {
    "tags": []
   },
   "outputs": [],
   "source": [
    "from sklearn.feature_extraction.text import TfidfVectorizer\n",
    "\n",
    "def dummy_func(doc):\n",
    "    return doc\n",
    "\n",
    "tfidf = TfidfVectorizer(\n",
    "    analyzer = \"word\",\n",
    "    tokenizer = dummy_func,\n",
    "    preprocessor = dummy_func,\n",
    "    token_pattern = None\n",
    ")"
   ]
  },
  {
   "cell_type": "code",
   "execution_count": 103,
   "id": "807b9b9c-db26-4798-8417-ba8bfa01a27e",
   "metadata": {
    "tags": []
   },
   "outputs": [],
   "source": [
    "tfidf_csr_matrix = tfidf.fit_transform(df[\"content_tokens\"])"
   ]
  },
  {
   "cell_type": "code",
   "execution_count": 104,
   "id": "012c20af-e153-4e2e-af8d-193b22094d33",
   "metadata": {
    "tags": []
   },
   "outputs": [
    {
     "data": {
      "text/plain": [
       "<54214x93627 sparse matrix of type '<class 'numpy.float64'>'\n",
       "\twith 2987484 stored elements in Compressed Sparse Row format>"
      ]
     },
     "execution_count": 104,
     "metadata": {},
     "output_type": "execute_result"
    }
   ],
   "source": [
    "tfidf_csr_matrix"
   ]
  },
  {
   "cell_type": "code",
   "execution_count": 105,
   "id": "db01976b-69b7-441d-8fd4-8d3b3f30c6cd",
   "metadata": {
    "tags": []
   },
   "outputs": [],
   "source": [
    "# tfidf_vector_list = tfidf_csr_matrix.toarray() --> 메모리 에러"
   ]
  },
  {
   "cell_type": "code",
   "execution_count": 106,
   "id": "8ba24ea0-8203-4225-9efb-1d1cd0f78f3f",
   "metadata": {
    "tags": []
   },
   "outputs": [],
   "source": [
    "#tfidf.vocabulary_"
   ]
  },
  {
   "cell_type": "code",
   "execution_count": 107,
   "id": "30e71f9e-13e9-4b57-b7e6-2a6c59744621",
   "metadata": {
    "tags": []
   },
   "outputs": [
    {
     "data": {
      "text/plain": [
       "93627"
      ]
     },
     "execution_count": 107,
     "metadata": {},
     "output_type": "execute_result"
    }
   ],
   "source": [
    "len(tfidf.vocabulary_)"
   ]
  },
  {
   "cell_type": "code",
   "execution_count": 108,
   "id": "033d67ed-9467-48a7-a4c0-796e01fd1ca7",
   "metadata": {
    "tags": []
   },
   "outputs": [
    {
     "name": "stdout",
     "output_type": "stream",
     "text": [
      "  (0, 24119)\t0.05175856311111811\n",
      "  (0, 11185)\t0.12472681184294948\n",
      "  (0, 62609)\t0.18108102787307076\n",
      "  (0, 80567)\t0.14352347404261556\n",
      "  (0, 16371)\t0.10871024963702527\n",
      "  (0, 7820)\t0.19115511583187178\n",
      "  (0, 25598)\t0.1980925112304484\n",
      "  (0, 19035)\t0.19032038518280114\n",
      "  (0, 64717)\t0.1251099968516713\n",
      "  (0, 30738)\t0.06725520403031778\n",
      "  (0, 18124)\t0.10152401240010492\n",
      "  (0, 31021)\t0.10384449438334185\n",
      "  (0, 49320)\t0.06417381770660821\n",
      "  (0, 48340)\t0.05397078855099042\n",
      "  (0, 4122)\t0.11106105572456552\n",
      "  (0, 15906)\t0.1251529856640617\n",
      "  (0, 90838)\t0.10463001981298152\n",
      "  (0, 39196)\t0.11296074089926245\n",
      "  (0, 91255)\t0.17123175591814827\n",
      "  (0, 65734)\t0.11206181842310099\n",
      "  (0, 27650)\t0.08720659963078775\n",
      "  (0, 28207)\t0.1522459622732843\n",
      "  (0, 87017)\t0.08059362871090457\n",
      "  (0, 5696)\t0.11627124413880753\n",
      "  (0, 16722)\t0.13026121174724356\n",
      "  :\t:\n",
      "  (0, 27537)\t0.12671278748924783\n",
      "  (0, 5486)\t0.11886554130543489\n",
      "  (0, 77848)\t0.11601355885110883\n",
      "  (0, 68496)\t0.11133581375491972\n",
      "  (0, 31113)\t0.1584628465013306\n",
      "  (0, 48776)\t0.11457318691661005\n",
      "  (0, 89937)\t0.10645574694690302\n",
      "  (0, 60146)\t0.0674856156469797\n",
      "  (0, 280)\t0.08906694580631505\n",
      "  (0, 82123)\t0.08124000057748934\n",
      "  (0, 19345)\t0.1245586153136657\n",
      "  (0, 34998)\t0.10214251899148327\n",
      "  (0, 58637)\t0.13997340074551287\n",
      "  (0, 47523)\t0.08573228628581779\n",
      "  (0, 60590)\t0.29796692065012576\n",
      "  (0, 59908)\t0.07091783009240336\n",
      "  (0, 91851)\t0.05823913998148866\n",
      "  (0, 259)\t0.11196864374533459\n",
      "  (0, 424)\t0.11561858876579485\n",
      "  (0, 234)\t0.21124806125520007\n",
      "  (0, 61911)\t0.09471836394539217\n",
      "  (0, 23460)\t0.10757371209178704\n",
      "  (0, 37039)\t0.07969903961890511\n",
      "  (0, 18813)\t0.12377669760200018\n",
      "  (0, 48699)\t0.13165976459071033\n"
     ]
    }
   ],
   "source": [
    "print(tfidf_csr_matrix[0])"
   ]
  },
  {
   "cell_type": "code",
   "execution_count": null,
   "id": "c7c14a87-fd5e-4ea1-b925-bdcdc229475e",
   "metadata": {},
   "outputs": [],
   "source": []
  },
  {
   "cell_type": "code",
   "execution_count": 109,
   "id": "5be99c0e-06fb-4916-bc73-914ab8409208",
   "metadata": {
    "tags": []
   },
   "outputs": [],
   "source": [
    "from nltk.tokenize import WordPunctTokenizer\n",
    "tokenizer = WordPunctTokenizer()"
   ]
  },
  {
   "cell_type": "code",
   "execution_count": 110,
   "id": "08b6d7d6-5348-4f07-9fe0-de060105ec7f",
   "metadata": {
    "tags": []
   },
   "outputs": [],
   "source": [
    "from nltk.stem import PorterStemmer\n",
    "stemmer = PorterStemmer()"
   ]
  },
  {
   "cell_type": "code",
   "execution_count": 111,
   "id": "7e17b534-6036-4d65-99ea-7ffd44ce8c75",
   "metadata": {
    "tags": []
   },
   "outputs": [
    {
     "name": "stderr",
     "output_type": "stream",
     "text": [
      "[nltk_data] Downloading package stopwords to\n",
      "[nltk_data]     C:\\Users\\82108\\AppData\\Roaming\\nltk_data...\n",
      "[nltk_data]   Package stopwords is already up-to-date!\n"
     ]
    }
   ],
   "source": [
    "import nltk\n",
    "from nltk.corpus import stopwords\n",
    "\n",
    "nltk.download('stopwords')\n",
    "stop_word_list = stopwords.words(\"english\")"
   ]
  },
  {
   "cell_type": "code",
   "execution_count": 112,
   "id": "17b6e5a8-2454-4715-8064-ae145e85680e",
   "metadata": {
    "tags": []
   },
   "outputs": [],
   "source": [
    "def preprocess(text):\n",
    "    text = text.lower()\n",
    "    tokens = tokenizer.tokenize(text)\n",
    "    stems = [stemmer.stem(token) for token in tokens]\n",
    "    filtered_tokens = [x for x in stems if x not in stop_word_list]\n",
    "    return filtered_tokens"
   ]
  },
  {
   "cell_type": "code",
   "execution_count": 122,
   "id": "bbaa47cb-948f-4131-81a9-407492b2a531",
   "metadata": {
    "tags": []
   },
   "outputs": [
    {
     "name": "stdin",
     "output_type": "stream",
     "text": [
      "movie feature:  brother and sister murderous relationship murders woman thriller\n"
     ]
    }
   ],
   "source": [
    "query = input(\"movie feature: \")\n",
    "nouns = preprocess(query)"
   ]
  },
  {
   "cell_type": "code",
   "execution_count": 123,
   "id": "b0024e15-65b3-488d-9410-1193a5e0fca8",
   "metadata": {
    "tags": []
   },
   "outputs": [
    {
     "data": {
      "text/plain": [
       "['brother', 'sister', 'murder', 'relationship', 'murder', 'woman', 'thriller']"
      ]
     },
     "execution_count": 123,
     "metadata": {},
     "output_type": "execute_result"
    }
   ],
   "source": [
    "nouns"
   ]
  },
  {
   "cell_type": "code",
   "execution_count": 124,
   "id": "e135fdd5-09b2-4905-8cea-fd6ad263258f",
   "metadata": {
    "tags": []
   },
   "outputs": [],
   "source": [
    "query_csr_matrix = tfidf.transform([nouns])"
   ]
  },
  {
   "cell_type": "code",
   "execution_count": 125,
   "id": "afaee655-e49c-4a6c-b818-ccd0d033a335",
   "metadata": {
    "tags": []
   },
   "outputs": [],
   "source": [
    "vocab = tfidf.vocabulary_"
   ]
  },
  {
   "cell_type": "code",
   "execution_count": 126,
   "id": "e224e73a-2615-4bb4-8725-cd6ae8abb2dd",
   "metadata": {
    "tags": []
   },
   "outputs": [
    {
     "name": "stdout",
     "output_type": "stream",
     "text": [
      "brother 12866\n",
      "sister 76138\n",
      "murder 56353\n",
      "relationship 68688\n",
      "murder 56353\n",
      "woman 91006\n",
      "thriller 82963\n"
     ]
    }
   ],
   "source": [
    "for noun in nouns:\n",
    "    try:\n",
    "        print(noun, vocab[noun])\n",
    "    except:\n",
    "        continue"
   ]
  },
  {
   "cell_type": "code",
   "execution_count": 127,
   "id": "4c3c4739-18a1-4889-bc5d-0f745edaeb7c",
   "metadata": {
    "tags": []
   },
   "outputs": [
    {
     "name": "stdout",
     "output_type": "stream",
     "text": [
      "  (0, 91006)\t0.28843308008197244\n",
      "  (0, 82963)\t0.3624561490301186\n",
      "  (0, 76138)\t0.35409671276760385\n",
      "  (0, 68688)\t0.3253284514439356\n",
      "  (0, 56353)\t0.6674768972067466\n",
      "  (0, 12866)\t0.329671665036905\n"
     ]
    }
   ],
   "source": [
    "print(query_csr_matrix)"
   ]
  },
  {
   "cell_type": "code",
   "execution_count": 128,
   "id": "3267f7fe-6c0f-4671-83f1-caf5853a64e8",
   "metadata": {
    "tags": []
   },
   "outputs": [],
   "source": [
    "from sklearn.metrics.pairwise import cosine_similarity"
   ]
  },
  {
   "cell_type": "code",
   "execution_count": 129,
   "id": "e9b1d62f-1775-4d2b-a06e-e24b65aa2e1f",
   "metadata": {
    "tags": []
   },
   "outputs": [],
   "source": [
    "def search(query):\n",
    "    query_nouns = preprocess(query)\n",
    "    query_tfidf = tfidf.transform([query_nouns])\n",
    "    similarities = cosine_similarity(query_tfidf, tfidf_csr_matrix).flatten()\n",
    "    top_similarities = sorted(similarities, reverse=True)[:10]        # similarities 높은거 5개만\n",
    "    top_indices = similarities.argsort()[-10:][::-1]                  # top5의 인덱스 넘버 추출\n",
    "    top_titles = [df.iloc[i][\"title\"] for i in top_indices]          # top5의 기사 제목 추출\n",
    "    for similarity, title in zip(top_similarities, top_titles):\n",
    "        print(similarity, title)"
   ]
  },
  {
   "cell_type": "code",
   "execution_count": 130,
   "id": "b616b85a-db17-45cd-9a30-aa3cba55a1a7",
   "metadata": {
    "tags": []
   },
   "outputs": [
    {
     "name": "stdout",
     "output_type": "stream",
     "text": [
      "0.6678861137803139 Cupid (1997)\n",
      "0.34518350167105094 A Yellow Streak (1927)\n",
      "0.3288153667578964 Hotel Chelsea (2009)\n",
      "0.3030492532319431 Water (2004/I)\n",
      "0.3002802813263131 Murder Book (2015)\n",
      "0.28604984911889014 Franco e Ciccio ...ladro e guardia (1969)\n",
      "0.284315874880685 Broken Reality (1994)\n",
      "0.2775667964181764 Nurse shimai: Momoiro shinsatsu-shitsu (2003)\n",
      "0.27656912414771195 \"Run of the House\" (2003)\n",
      "0.275578630376161 The Initiate (1998)\n"
     ]
    }
   ],
   "source": [
    "search(query)"
   ]
  },
  {
   "cell_type": "code",
   "execution_count": null,
   "id": "acb63fbf-e1a7-4435-8157-2d33f79a7880",
   "metadata": {},
   "outputs": [],
   "source": []
  }
 ],
 "metadata": {
  "kernelspec": {
   "display_name": "Python 3 (ipykernel)",
   "language": "python",
   "name": "python3"
  },
  "language_info": {
   "codemirror_mode": {
    "name": "ipython",
    "version": 3
   },
   "file_extension": ".py",
   "mimetype": "text/x-python",
   "name": "python",
   "nbconvert_exporter": "python",
   "pygments_lexer": "ipython3",
   "version": "3.11.5"
  }
 },
 "nbformat": 4,
 "nbformat_minor": 5
}
