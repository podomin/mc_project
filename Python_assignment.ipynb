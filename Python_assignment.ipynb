{
 "cells": [
  {
   "cell_type": "code",
   "execution_count": 1,
   "id": "82941df3",
   "metadata": {},
   "outputs": [],
   "source": [
    "# 선물 랜덤 추천 프로그램"
   ]
  },
  {
   "cell_type": "code",
   "execution_count": 12,
   "id": "7525eac0",
   "metadata": {
    "tags": []
   },
   "outputs": [],
   "source": [
    "\n",
    "friend_dict = {\"수정\": [\"요가바지\", \"인센스 세트\", \"요가탑\", \"만년필\"], \n",
    "               \"영서\": [\"과일 세트\", \"조명\", \"머그컵 세트\", \"스누피 인형\"], \n",
    "               \"지현\": [\"틴트\", \"마스크팩\", \"향수\", \"바디워시\"] \n",
    "              }\n",
    "\n",
    "\n",
    "item_price = {\n",
    "    \"요가바지\": 47000,\n",
    "    \"인센스 세트\": 35000,\n",
    "    \"요가탑\": 42000,\n",
    "    \"만년필\" : 38900,\n",
    "    \"과일 세트\": 40000,\n",
    "    \"조명\": 41000,\n",
    "    \"머그컵 세트\": 32000,\n",
    "    \"스누피 인형\": 45000,\n",
    "    \"틴트\": 39000,\n",
    "    \"마스크팩\": 30000,\n",
    "    \"향수\": 48000,\n",
    "    \"바디워시\": 42000\n",
    "}\n"
   ]
  },
  {
   "cell_type": "code",
   "execution_count": 14,
   "id": "411b1851",
   "metadata": {
    "tags": []
   },
   "outputs": [
    {
     "name": "stdin",
     "output_type": "stream",
     "text": [
      "누구의 선물인가요?:  영서\n"
     ]
    },
    {
     "name": "stdout",
     "output_type": "stream",
     "text": [
      "과일 세트 남은 돈:  10000\n",
      "과일 세트 \t 남은 돈:10000\n"
     ]
    }
   ],
   "source": [
    "import random\n",
    "money = 50000\n",
    "\n",
    "name = input(\"누구의 선물인가요?: \" )\n",
    "for friend in friend_dict.keys():\n",
    "    if friend == name:\n",
    "        gifts = friend_dict.get(friend)\n",
    "        selected_gift = gifts[random.randrange(0, len(gifts))]\n",
    "        price = item_price[selected_gift]\n",
    "        money -= price\n",
    "        print(selected_gift, \"남은 돈: \",money)\n",
    "        print(f'{selected_gift} \\t 남은 돈:{money}')\n",
    "        \n",
    "        \n",
    "                "
   ]
  },
  {
   "cell_type": "code",
   "execution_count": 15,
   "id": "3e884443",
   "metadata": {
    "tags": []
   },
   "outputs": [
    {
     "data": {
      "text/plain": [
       "['머그컵 세트']"
      ]
     },
     "execution_count": 15,
     "metadata": {},
     "output_type": "execute_result"
    }
   ],
   "source": [
    "random.sample(gifts,1)"
   ]
  },
  {
   "cell_type": "code",
   "execution_count": 16,
   "id": "063b8aa2",
   "metadata": {
    "tags": []
   },
   "outputs": [
    {
     "data": {
      "text/plain": [
       "'머그컵 세트'"
      ]
     },
     "execution_count": 16,
     "metadata": {},
     "output_type": "execute_result"
    }
   ],
   "source": [
    "random.sample(gifts,1)[0][:]"
   ]
  },
  {
   "cell_type": "code",
   "execution_count": 17,
   "id": "4bc57835",
   "metadata": {
    "tags": []
   },
   "outputs": [
    {
     "data": {
      "text/plain": [
       "str"
      ]
     },
     "execution_count": 17,
     "metadata": {},
     "output_type": "execute_result"
    }
   ],
   "source": [
    "type(random.sample(gifts,1)[0][:])"
   ]
  },
  {
   "cell_type": "code",
   "execution_count": 19,
   "id": "1db0b868",
   "metadata": {
    "tags": []
   },
   "outputs": [],
   "source": [
    "# 1. 친구 이름 넣으면 랜덤하게 선물 리터하는 함수\n",
    "import random\n",
    "\n",
    "def randomPresent(name):\n",
    "    for friend in friend_dict.keys():\n",
    "        if friend == name:\n",
    "            gifts = friend_dict.get(friend)\n",
    "            selected_gift = gifts[random.randrange(0, len(gifts))]    \n",
    "    return selected_gift\n",
    "            "
   ]
  },
  {
   "cell_type": "code",
   "execution_count": 20,
   "id": "4bb43040",
   "metadata": {
    "tags": []
   },
   "outputs": [
    {
     "data": {
      "text/plain": [
       "'틴트'"
      ]
     },
     "execution_count": 20,
     "metadata": {},
     "output_type": "execute_result"
    }
   ],
   "source": [
    "randomPresent(\"지현\")"
   ]
  },
  {
   "cell_type": "code",
   "execution_count": 21,
   "id": "19293798",
   "metadata": {
    "tags": []
   },
   "outputs": [],
   "source": [
    "# 2. 내가 현재 갖고 있는 돈과 친구 한테 줄 선물 넣으면 잔돈 리턴하는 함수\n",
    "\n",
    "def Changes(money, present):\n",
    "    changes = money - item_price[present]\n",
    "    return changes\n",
    "    "
   ]
  },
  {
   "cell_type": "code",
   "execution_count": 22,
   "id": "7ded31ca",
   "metadata": {
    "tags": []
   },
   "outputs": [
    {
     "data": {
      "text/plain": [
       "2000"
      ]
     },
     "execution_count": 22,
     "metadata": {},
     "output_type": "execute_result"
    }
   ],
   "source": [
    "Changes(50000, \"향수\")"
   ]
  },
  {
   "cell_type": "code",
   "execution_count": null,
   "id": "b6528486",
   "metadata": {},
   "outputs": [],
   "source": []
  }
 ],
 "metadata": {
  "kernelspec": {
   "display_name": "Python 3 (ipykernel)",
   "language": "python",
   "name": "python3"
  },
  "language_info": {
   "codemirror_mode": {
    "name": "ipython",
    "version": 3
   },
   "file_extension": ".py",
   "mimetype": "text/x-python",
   "name": "python",
   "nbconvert_exporter": "python",
   "pygments_lexer": "ipython3",
   "version": "3.11.5"
  }
 },
 "nbformat": 4,
 "nbformat_minor": 5
}
