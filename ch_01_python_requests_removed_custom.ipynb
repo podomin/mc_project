{
 "cells": [
  {
   "cell_type": "markdown",
   "id": "03e3e1c5-40c2-4a10-963c-56985f4f8dd5",
   "metadata": {},
   "source": [
    "## ch 1. python requests를 이용한 크롤러 개발\n",
    "\n",
    "### 1. 필요 라이브러리\n",
    "이제 본격적으로 크롤러를 개발해보겠습니다. 웹 크롤러를 만들기 위해서는 먼저 http client가 있어야 합니다. 지금까지는 웹 브라우저를 클라이언트로 사용하였는데, python의 reuests라는 라이브러리를 사용하면 쉽게 HTTP 요청을 보낼 수 있습니다. 그리고 응답으로 수신한 HTML 문서를 쉽게 파싱하기 위해서 BeautifulSoup이라는 라이브러리를 이요하겠습니다.\n",
    "\n",
    "- requests\n",
    "- BeautifualSoup"
   ]
  },
  {
   "cell_type": "code",
   "execution_count": 19,
   "id": "9b111c01-e71a-4ddd-91d3-4f2135d92164",
   "metadata": {},
   "outputs": [
    {
     "name": "stdout",
     "output_type": "stream",
     "text": [
      "Defaulting to user installation because normal site-packages is not writeable\n",
      "Requirement already satisfied: requests in c:\\programdata\\anaconda3\\lib\\site-packages (2.31.0)\n",
      "Requirement already satisfied: charset-normalizer<4,>=2 in c:\\programdata\\anaconda3\\lib\\site-packages (from requests) (2.0.4)\n",
      "Requirement already satisfied: idna<4,>=2.5 in c:\\programdata\\anaconda3\\lib\\site-packages (from requests) (3.4)\n",
      "Requirement already satisfied: urllib3<3,>=1.21.1 in c:\\programdata\\anaconda3\\lib\\site-packages (from requests) (1.26.16)\n",
      "Requirement already satisfied: certifi>=2017.4.17 in c:\\programdata\\anaconda3\\lib\\site-packages (from requests) (2023.7.22)\n",
      "Defaulting to user installation because normal site-packages is not writeable\n",
      "Requirement already satisfied: beautifulsoup4 in c:\\programdata\\anaconda3\\lib\\site-packages (4.12.2)\n",
      "Requirement already satisfied: soupsieve>1.2 in c:\\programdata\\anaconda3\\lib\\site-packages (from beautifulsoup4) (2.4)\n"
     ]
    }
   ],
   "source": [
    "!pip install requests\n",
    "!pip install beautifulsoup4"
   ]
  },
  {
   "cell_type": "code",
   "execution_count": 3,
   "id": "87231d23-b1e7-4ab5-bc19-b36cb21dff15",
   "metadata": {},
   "outputs": [],
   "source": [
    "# beautifulsoup = 기본적인 html 문서를 beautifulsoup 객체로 만들면 find 같은 함수 사용 가능 그래서 title이나 id 등 태그 활용해 원하는 정보만 파싱하기 위한 라이브러리\n",
    "# 웹서비스가 어떻게 동작하는지 구조 파악하기\n",
    "# 개발자 도구 f12  -> network(서버와 주고받은 데이터 확인 가능)\n",
    "# 개발자 도구 f12  -> network -> fetch/XHR = 원하는 데이터 요청하는 API  -> copy curl(bash) -> vscode에서 git bash터미널에 붙여넣기 하면 데이터 받아올 수 있음\n",
    "# 웹서비스 = 서버로부터 데이터를 주고 받는다 !!"
   ]
  },
  {
   "cell_type": "code",
   "execution_count": 76,
   "id": "68e9e727-3f4e-4fba-8401-97042c08e3aa",
   "metadata": {
    "tags": []
   },
   "outputs": [],
   "source": [
    "import requests\n",
    "from bs4 import BeautifulSoup  #-> 뷰티풀숩은 클래스임 bs4에서 Beautifulsoup 클래스 가져오겠다"
   ]
  },
  {
   "cell_type": "markdown",
   "id": "5d1c2bfb-d04e-466c-b459-590f986364e7",
   "metadata": {},
   "source": [
    "### 2. news list backend API에 HTTP 요청 보내기\n",
    "뉴스 기사 목록을 내려주는 네이버 스포츠 백엔드 API에 2023년 5월 10일 뉴스 기사 목록을 요청을 보낸 뒤, 응답을 json 객체로 바꿔보겠습니다. json은 python에서는 dict 데이터 타입으로 표현됩니다."
   ]
  },
  {
   "cell_type": "code",
   "execution_count": 13,
   "id": "cd581016-0e64-477b-8233-7ed02ca05370",
   "metadata": {
    "tags": []
   },
   "outputs": [
    {
     "name": "stdout",
     "output_type": "stream",
     "text": [
      "elapsed 1.0464468002319336\n"
     ]
    }
   ],
   "source": [
    "import time\n",
    "\n",
    "start = time.time()\n",
    "sample_url = \"https://sports.news.naver.com/kbo/news/list?isphoto=N&page=2\"\n",
    "response = requests.get(sample_url)\n",
    "response_dict = response.json() \n",
    "\n",
    "print(\"elapsed\", time.time() - start)"
   ]
  },
  {
   "cell_type": "code",
   "execution_count": 8,
   "id": "0898399b-4d74-417e-958f-fee1b5b81610",
   "metadata": {},
   "outputs": [],
   "source": [
    "sample_url = \"https://sports.news.naver.com/kbo/news/list?isphoto=N&page=2\"\n",
    "response = requests.get(sample_url)"
   ]
  },
  {
   "cell_type": "code",
   "execution_count": 9,
   "id": "687773e0-aa4e-4f0d-a17d-d608cca6d827",
   "metadata": {
    "tags": []
   },
   "outputs": [],
   "source": [
    "response_dict = response.json()    #json -> dictionary로 받기 "
   ]
  },
  {
   "cell_type": "code",
   "execution_count": 10,
   "id": "83572b01-8378-4f0f-84fe-0b42dc02ebd7",
   "metadata": {
    "tags": []
   },
   "outputs": [
    {
     "data": {
      "text/plain": [
       "{'list': [{'oid': '031',\n",
       "   'aid': '0000795412',\n",
       "   'officeName': '아이뉴스24',\n",
       "   'title': '키움 김혜성, 2023 KBO 페어플레이상 선정',\n",
       "   'subContent': '한국야구위원회(KBO)가 2023 KBO리그 페어플레이이상 수상자로 키움 히어로즈 김혜성(내야수)를 선정했다고 11일 밝혔다. 페어플레이상은 지난달(11월)...',\n",
       "   'thumbnail': 'http://imgnews.naver.net/image/thumb154/031/2023/12/11/795412.jpg',\n",
       "   'datetime': '2023.12.11 10:15',\n",
       "   'url': None,\n",
       "   'sectionName': 'KBO리그',\n",
       "   'type': 'PHOTO',\n",
       "   'totalCount': 50},\n",
       "  {'oid': '001',\n",
       "   'aid': '0014382582',\n",
       "   'officeName': '연합뉴스',\n",
       "   'title': '키움 김혜성, 2023 페어플레이상 수상자로 선정',\n",
       "   'subContent': 'KBO 시상식에서 수비상 받은 김혜성[연합뉴스 자료사진] (서울=연합뉴스) 김경윤 기자 = 프로야구 키움 히어로즈의 주전 내야수 김혜성(24)이 2023 K...',\n",
       "   'thumbnail': 'http://imgnews.naver.net/image/thumb154/001/2023/12/11/14382582.jpg',\n",
       "   'datetime': '2023.12.11 10:13',\n",
       "   'url': None,\n",
       "   'sectionName': 'KBO리그',\n",
       "   'type': 'PHOTO',\n",
       "   'totalCount': 63},\n",
       "  {'oid': '640',\n",
       "   'aid': '0000047077',\n",
       "   'officeName': '코리아중앙데일리',\n",
       "   'title': 'Hanwha Eagles re-sign Felix Pena on one-year, $1.05 million deal',\n",
       "   'subContent': 'Hanwha Eagles starter Felix Pena pitches from the mound during a game against the LG Tw...',\n",
       "   'thumbnail': 'http://imgnews.naver.net/image/thumb154/640/2023/12/11/47077.jpg',\n",
       "   'datetime': '2023.12.11 10:09',\n",
       "   'url': None,\n",
       "   'sectionName': 'KBO리그',\n",
       "   'type': 'PHOTO',\n",
       "   'totalCount': 142},\n",
       "  {'oid': '445',\n",
       "   'aid': '0000163862',\n",
       "   'officeName': 'MHN스포츠',\n",
       "   'title': \"김혜성, 2023 KBO 페어플레이상 수상자 '키움 2년 연속 배출'\",\n",
       "   'subContent': '키움 김혜성.(MHN스포츠 박연준 기자) 김혜성이 페어플레이상을 수상 받는다.KBO(총재 허구연)는 11일 \"지난 11월 23일(목) 상벌위원회를 열고 20...',\n",
       "   'thumbnail': 'http://imgnews.naver.net/image/thumb154/445/2023/12/11/163862.jpg',\n",
       "   'datetime': '2023.12.11 10:07',\n",
       "   'url': None,\n",
       "   'sectionName': 'KBO리그',\n",
       "   'type': 'PHOTO',\n",
       "   'totalCount': 384},\n",
       "  {'oid': '477',\n",
       "   'aid': '0000464000',\n",
       "   'officeName': '스포티비뉴스',\n",
       "   'title': '\"진지한 경기 태도, 타의 모범되는 선수\" 김혜성 KBO 페어플레이상 수상',\n",
       "   'subContent': '▲ 김혜성이 KBO 페어플레이상 수상자로 선정됐다. ⓒ곽혜미 기자[스포티비뉴스=신원철 기자] 키움 히어로즈 내야수 김혜성이 KBO 상벌위원회가 뽑은 2023...',\n",
       "   'thumbnail': 'http://imgnews.naver.net/image/thumb154/477/2023/12/11/464000.jpg',\n",
       "   'datetime': '2023.12.11 10:06',\n",
       "   'url': None,\n",
       "   'sectionName': 'KBO리그',\n",
       "   'type': 'PHOTO',\n",
       "   'totalCount': 537},\n",
       "  {'oid': '117',\n",
       "   'aid': '0003794172',\n",
       "   'officeName': '마이데일리',\n",
       "   'title': 'SSG, 대한항공과 함께 공동 기부금 전달',\n",
       "   'subContent': \"SSG 랜더스[마이데일리 = 김건호 기자] SSG 랜더스는 10일 인천 계양체육관에서 열린 대한항공 점보스의 '랜더스 데이'에 앞서 공동 기부금 전달식을 진...\",\n",
       "   'thumbnail': 'http://imgnews.naver.net/image/thumb154/117/2023/12/11/3794172.jpg',\n",
       "   'datetime': '2023.12.11 10:04',\n",
       "   'url': None,\n",
       "   'sectionName': 'KBO리그',\n",
       "   'type': 'PHOTO',\n",
       "   'totalCount': 170},\n",
       "  {'oid': '001',\n",
       "   'aid': '0014382439',\n",
       "   'officeName': '연합뉴스',\n",
       "   'title': '이정후 영입전 2막 올랐다…토론토도 참전할까',\n",
       "   'subContent': '오타니 영입 실패한 토론토, 타선 강화에 초점이정후 예상 연봉 1천500만 달러도 거론전화하는 이정후[연합뉴스 자료사진] (서울=연합뉴스) 김경윤 기자 = ...',\n",
       "   'thumbnail': 'http://imgnews.naver.net/image/thumb154/001/2023/12/11/14382439.jpg',\n",
       "   'datetime': '2023.12.11 09:49',\n",
       "   'url': None,\n",
       "   'sectionName': 'KBO리그',\n",
       "   'type': 'PHOTO',\n",
       "   'totalCount': 14654},\n",
       "  {'oid': '014',\n",
       "   'aid': '0005112704',\n",
       "   'officeName': '파이낸셜뉴스',\n",
       "   'title': '“오퍼는 넣었다” KIA의 고민, 100만달러로 파노니보다 좋은 용병 구할 수 있을까',\n",
       "   'subContent': '[광주=뉴시스] KIA 타이거즈가 새로운 용병 투수를 구하기 위해 최선을 다하고 있다. 하지만 100만달러 제한이 난항이다. [파이낸셜뉴스 = 전상일 기자]...',\n",
       "   'thumbnail': 'http://imgnews.naver.net/image/thumb154/014/2023/12/11/5112704.jpg',\n",
       "   'datetime': '2023.12.11 09:46',\n",
       "   'url': None,\n",
       "   'sectionName': 'KBO리그',\n",
       "   'type': 'PHOTO',\n",
       "   'totalCount': 26147},\n",
       "  {'oid': '031',\n",
       "   'aid': '0000795391',\n",
       "   'officeName': '아이뉴스24',\n",
       "   'title': \"키움 김동혁 5이닝 '노히트' 야구대표팀 亞선수권 3위 차지\",\n",
       "   'subContent': '소기의 성과는 거뒀다. 정보명(동의대) 감독이 지휘봉을 잡고 대학선수들과 KBO 퓨처스(2군)리그 선수를 중심으로 구성한 한국 야구대표팀이 제30회 아시아야...',\n",
       "   'thumbnail': 'http://imgnews.naver.net/image/thumb154/031/2023/12/11/795391.jpg',\n",
       "   'datetime': '2023.12.11 09:44',\n",
       "   'url': None,\n",
       "   'sectionName': 'KBO리그',\n",
       "   'type': 'PHOTO',\n",
       "   'totalCount': 3011},\n",
       "  {'oid': '076',\n",
       "   'aid': '0004087816',\n",
       "   'officeName': '스포츠조선',\n",
       "   'title': '\"내년에 더 잘할테니 연봉 많이 올려주세요.\" 자신감빼면 시체라는 4번타자. 최고 인상 노린다[SC 코멘트]',\n",
       "   'subContent': '한국프로야구 은퇴선수의 날 시상식이 7일 서울 청담동 리베라호텔에서 열렸다. 최고의 타자상을 수상한 노시환이 수상소감을 말하고 있다. 정재근 기자 cjg@s...',\n",
       "   'thumbnail': 'http://imgnews.naver.net/image/thumb154/076/2023/12/11/4087816.jpg',\n",
       "   'datetime': '2023.12.11 08:41',\n",
       "   'url': None,\n",
       "   'sectionName': 'KBO리그',\n",
       "   'type': 'PHOTO',\n",
       "   'totalCount': 35206},\n",
       "  {'oid': '241',\n",
       "   'aid': '0003318017',\n",
       "   'officeName': '일간스포츠',\n",
       "   'title': '이번에도? 양의GG',\n",
       "   'subContent': \"‘2022 KBO 골든글러브 시상식'이 9일 오후 서울 강남구 코엑스 오디토리움에서 열렸다. 두산 양의지가 포수 부문 골든글러브를 수상하고 소감을 말하고 있...\",\n",
       "   'thumbnail': 'http://imgnews.naver.net/image/thumb154/241/2023/12/11/3318017.jpg',\n",
       "   'datetime': '2023.12.11 08:11',\n",
       "   'url': None,\n",
       "   'sectionName': 'KBO리그',\n",
       "   'type': 'PHOTO',\n",
       "   'totalCount': 4433},\n",
       "  {'oid': '421',\n",
       "   'aid': '0007226488',\n",
       "   'officeName': '뉴스1',\n",
       "   'title': \"'김동혁 5이닝 무실점' 한국, 필리핀 꺾고 아시아야구선수권 3위\",\n",
       "   'subContent': '9일 오후 서울 송파구 잠실야구장에서 열린 2023 신한 SOL KBO리그 키움 히어로즈와 LG 트윈스의 경기, 키움 두 번째 투수 김동혁이 6회말 등판해 ...',\n",
       "   'thumbnail': 'http://imgnews.naver.net/image/thumb154/421/2023/12/11/7226488.jpg',\n",
       "   'datetime': '2023.12.11 08:05',\n",
       "   'url': None,\n",
       "   'sectionName': 'KBO리그',\n",
       "   'type': 'PHOTO',\n",
       "   'totalCount': 5194},\n",
       "  {'oid': '117',\n",
       "   'aid': '0003794148',\n",
       "   'officeName': '마이데일리',\n",
       "   'title': '이정후 떠나면 KBO 현역 통산타율 1위인데…정작 GG가 없다? 33세 ‘비운의 사나이’ 되나',\n",
       "   'subContent': \"2023년 9월 22일 서울 잠실야구장에서 진행된 '2023 프로야구' NC-LG의 경기. 박건우/마이데일리2023년 9월 22일 서울 잠실야구장에서 진행된...\",\n",
       "   'thumbnail': 'http://imgnews.naver.net/image/thumb154/117/2023/12/11/3794148.jpg',\n",
       "   'datetime': '2023.12.11 08:00',\n",
       "   'url': None,\n",
       "   'sectionName': 'KBO리그',\n",
       "   'type': 'PHOTO',\n",
       "   'totalCount': 35984},\n",
       "  {'oid': '410',\n",
       "   'aid': '0000972119',\n",
       "   'officeName': 'MK스포츠 ',\n",
       "   'title': '무릎만 문제인가 했는데 음주운전 은폐라니…백업 포수 카드 하나 잃은 두산, 제로베이스 경쟁에도 악영향 [MK이슈]',\n",
       "   'subContent': '두산 베어스가 백업 포수 카드 하나를 허망하게 잃었다. 무릎만 문제인가 했는데 음주운전 은폐라는 충격적인 일이 벌어졌다. 백업 포수 제로베이스 경쟁에도 분명...',\n",
       "   'thumbnail': 'http://imgnews.naver.net/image/thumb154/410/2023/12/11/972119.jpg',\n",
       "   'datetime': '2023.12.11 08:00',\n",
       "   'url': None,\n",
       "   'sectionName': 'KBO리그',\n",
       "   'type': 'PHOTO',\n",
       "   'totalCount': 51605},\n",
       "  {'oid': '311',\n",
       "   'aid': '0001670776',\n",
       "   'officeName': '엑스포츠뉴스',\n",
       "   'title': \"마침내 결정된 오타니 행선지…'이정후 영입전'에 속도 붙을까\",\n",
       "   'subContent': \"(엑스포츠뉴스 유준상 기자) 조용한 행보를 이어가던 '슈퍼스타' 오타니 쇼헤이가 역대 프로스포츠 최고 규모의 계약과 함께 LA 다저스로 향했다. 오타니의 다...\",\n",
       "   'thumbnail': 'http://imgnews.naver.net/image/thumb154/311/2023/12/11/1670776.jpg',\n",
       "   'datetime': '2023.12.11 07:42',\n",
       "   'url': None,\n",
       "   'sectionName': 'KBO리그',\n",
       "   'type': 'PHOTO',\n",
       "   'totalCount': 25635},\n",
       "  {'oid': '241',\n",
       "   'aid': '0003318013',\n",
       "   'officeName': '일간스포츠',\n",
       "   'title': '[김종문 진심 합심] 우리는 사회 공헌을 너무 심각하게 생각하지',\n",
       "   'subContent': '초등학생들과 야구를 하고 있는 노진혁(맨 위, 가운데 사진 맨 오른쪽). 프로 선수의 사회 공헌은 멀리 있는 게 아니다. 노진혁(롯데 자이언츠) 선수가 공을...',\n",
       "   'thumbnail': 'http://imgnews.naver.net/image/thumb154/241/2023/12/11/3318013.jpg',\n",
       "   'datetime': '2023.12.11 07:30',\n",
       "   'url': None,\n",
       "   'sectionName': 'KBO리그',\n",
       "   'type': 'PHOTO',\n",
       "   'totalCount': 3894},\n",
       "  {'oid': '477',\n",
       "   'aid': '0000463977',\n",
       "   'officeName': '스포티비뉴스',\n",
       "   'title': '\"미래 감독감 인재\" LG가 김민성을 보는 시선…그런데 왜 계약 소식이 없을까',\n",
       "   'subContent': '▲ 김민성 ⓒ곽혜미 기자▲ 유영찬 김민성 오지환 ⓒ곽혜미 기자[스포티비뉴스=신원철 기자] \"미래 감독감이라고 하시더라.\" LG 트윈스가 유틸리티 내야수 김민...',\n",
       "   'thumbnail': 'http://imgnews.naver.net/image/thumb154/477/2023/12/11/463977.jpg',\n",
       "   'datetime': '2023.12.11 07:11',\n",
       "   'url': None,\n",
       "   'sectionName': 'KBO리그',\n",
       "   'type': 'PHOTO',\n",
       "   'totalCount': 44965},\n",
       "  {'oid': '076',\n",
       "   'aid': '0004087774',\n",
       "   'officeName': '스포츠조선',\n",
       "   'title': \"결승행 실패보다 뼈아픈 기본기 실종…이러다간 '아시아 3류' 전락 불가피\",\n",
       "   'subContent': '◇스포츠조선DB[스포츠조선 박상경 기자] 정보명호가 아시아야구선수권대회 결승행에 실패했다.정보명 감독이 이끄는 24세 이하 야구대표팀은 9일(한국시각) 타이...',\n",
       "   'thumbnail': 'http://imgnews.naver.net/image/thumb154/076/2023/12/11/4087774.jpg',\n",
       "   'datetime': '2023.12.11 07:10',\n",
       "   'url': None,\n",
       "   'sectionName': 'KBO리그',\n",
       "   'type': 'PHOTO',\n",
       "   'totalCount': 22359},\n",
       "  {'oid': '025',\n",
       "   'aid': '0003327522',\n",
       "   'officeName': '중앙일보',\n",
       "   'title': '배구장에 왜 SSG 고효준이? \"저는 대한항공 한선수 팬\"',\n",
       "   'subContent': '10일 인천 계양체육관에서 열린 대한항공과 KB손해보험의 경기를 앞두고 서브를 넣는 SSG 랜더스 고효준. 사진 한국배구연맹 10일 인천 계양체육관에서 열린...',\n",
       "   'thumbnail': 'http://imgnews.naver.net/image/thumb154/025/2023/12/11/3327522.jpg',\n",
       "   'datetime': '2023.12.11 07:10',\n",
       "   'url': None,\n",
       "   'sectionName': 'KBO리그',\n",
       "   'type': 'PHOTO',\n",
       "   'totalCount': 45724},\n",
       "  {'oid': '477',\n",
       "   'aid': '0000463976',\n",
       "   'officeName': '스포티비뉴스',\n",
       "   'title': 'MVP, 골든글러브는 따 놓은 당상…수상 여부보다 관심이 쏠리는 것은?',\n",
       "   'subContent': '▲ 페디 ⓒ곽혜미 기자▲ 골든글러브 ⓒ 곽혜미 기자[스포티비뉴스=최민우 기자] NC 다이노스 에이스로 활약했던 에릭 페디(30)가 골든글러브 최다 득표율 기...',\n",
       "   'thumbnail': 'http://imgnews.naver.net/image/thumb154/477/2023/12/11/463976.jpg',\n",
       "   'datetime': '2023.12.11 07:01',\n",
       "   'url': None,\n",
       "   'sectionName': 'KBO리그',\n",
       "   'type': 'PHOTO',\n",
       "   'totalCount': 7676}],\n",
       " 'date': '20231211',\n",
       " 'type': 'latest',\n",
       " 'page': 2,\n",
       " 'totalPages': 3}"
      ]
     },
     "execution_count": 10,
     "metadata": {},
     "output_type": "execute_result"
    }
   ],
   "source": [
    "response_dict"
   ]
  },
  {
   "cell_type": "code",
   "execution_count": null,
   "id": "ed99b859-0bd8-4464-95f3-2f7bf46efa0b",
   "metadata": {},
   "outputs": [],
   "source": []
  },
  {
   "cell_type": "markdown",
   "id": "4965c9ae-f12a-4584-b67a-e033cb422549",
   "metadata": {},
   "source": [
    "### 3. 반목문을 돌면서 모든 페이지의 뉴스 기사 oid, aid 수집하기\n",
    "totalPages 값을 통해서 2023년 5월 10일 야구 뉴스 기사가 총 25 페이지 있다는 것을 알게되었습니다. 우리가 원하는 것은 특정일에 나온 뉴스 기사들의 oid와 aid들입니다. 한번 for문을 돌면서 모든 페이지를 요청하고, oid와 aid를 수집해보겠습니다. \n",
    "\n",
    "전체 진행 상황을 모니터링 하기 위해서 tqdm 라이브러리를 사용해보겠습니다.  "
   ]
  },
  {
   "cell_type": "markdown",
   "id": "e05215dd-8d2f-43d2-a37a-f4b5b6714bd5",
   "metadata": {
    "tags": []
   },
   "source": [
    "### 4. 뉴스 기사 페이지를 요청한 뒤, 기사 제목과 본문 파싱하기 \n",
    "기사 상세 페이지를 하나만 요청한 뒤, BeautifulSoup을 이용해 파싱해보겠습니다. BeautifulSoup 객체를 만들 때 뒤에 붙여주는 \"lxml\"은 BeautifulSoup에 내장된 HTML 파서 중 가장 많이 사용되는 것입니다."
   ]
  },
  {
   "cell_type": "code",
   "execution_count": 32,
   "id": "3912c408-a9d1-437e-a6dc-b141d630f2e6",
   "metadata": {},
   "outputs": [],
   "source": [
    "news_list = response_dict[\"list\"]\n",
    "for news_item in news_list:\n",
    "    oid = news_item[\"oid\"]\n",
    "    aid = news_item[\"aid\"]\n",
    "    url = f\"https://sports.naver.com/news?oid={oid}&aid={aid}\"\n",
    "    #print(url)\n",
    "    news_item_response = requests.get(url)\n",
    "    news_item_html = news_item_response.text\n",
    "    # print(news_item_html)\n",
    "    news_item_soup = BeautifulSoup(news_item_html)\n",
    "    \n",
    "    title = news_item_soup.find(\"title\").text\n",
    "     # 본문 추출 -> 상세페이지에서 우클릭 - 검사 클릭릭\n",
    "    content = news_item_soup.find(\"div\", id =\"newsEndContents\").text\n",
    "    \n",
    "    break"
   ]
  },
  {
   "cell_type": "code",
   "execution_count": 35,
   "id": "ef4a7e58-3242-401f-9ff0-c49e853e6dcf",
   "metadata": {
    "tags": []
   },
   "outputs": [
    {
     "name": "stdout",
     "output_type": "stream",
     "text": [
      "\n",
      "11일 골든글러브 시상식서 수상키움 김혜성이 27일 서울 중구 웨스틴조선호텔에서 열린 2023 신한은행 SOL KBO 시상식에서 2루수 부문 수비상을 수상한 후 수상소감을 전하고 있다. 2023.11.27/뉴스1 ⓒ News1 김성진 기자(서울=뉴스1) 서장원 기자 = 키움 히어로즈 내야수 김혜성이 2023 KBO 페어플레이상 수상자로 선정됐다.KBO는 11일 \"지난달 23일 상벌위원회를 열고 2023 KBO 페어플레이상 수상자로 키움 김혜성을 선정했다\"고 밝혔다.2001년에 제정된 페어플레이상은 KBO 정규시즌 기간 스포츠 정신에 입각한 진지한 태도와 판정 승복으로 타의모범이 돼 KBO리그 이미지 향상에 기여한 선수에게 시상된다.김혜성은 개인 첫 번째 페어플레이상을 받게 됐고, 소속팀 키움은 지난해 이지영에 이어 2년 연속 수상자를 배출하게 됐다.시상은 11일 오후 5시부터 개최되는 KBO 골든글러브 시상식에서 진행된다.\n",
      "\t\t\t\t\t\t\n",
      "\t\t\t\t\t\t\n",
      "\t\t\t\t\t\t\n",
      "\t\t\t\t\t\t\n",
      "\t\t\t\t\t\t\n",
      "\n",
      "\n",
      "\n",
      "\n",
      "\n",
      "\n",
      "\n",
      "\n",
      "\n",
      "서장원 기자\n",
      "\n",
      "\n",
      "구독\n",
      "\n",
      "\n",
      "\n",
      "\n",
      "\n",
      "예\n",
      "아니오\n",
      "\n",
      "닫기\n",
      "\n",
      "\n",
      "\n",
      "\n",
      "\n",
      "\n",
      "구독자\n",
      "-\n",
      "\n",
      "\n",
      "응원수\n",
      "-\n",
      "\n",
      "\n",
      "\n",
      "\n",
      "\n",
      "\n",
      "\n",
      "\n",
      "GG 수상 유력한 페디, 양의지 넘어 역대 최고 득표율 정조준\n",
      "\n",
      "\n",
      "프로농구 흥행몰이 가속화…관중수·입장 수익 모두 증대\n",
      "\n",
      "\n",
      "\n",
      "\n",
      "\n",
      "\n",
      "\n",
      "\n",
      "\n",
      "\n",
      "\n",
      "\n",
      "\n",
      "기사 섹션 분류 가이드\n",
      "\n",
      "기사 섹션 분류 안내\n",
      "\n",
      "오분류 제보하기\n",
      "가이드 닫기\n",
      "\n",
      "\n",
      "\n",
      "\n",
      "\n",
      "\n",
      "K팝·K트롯 팬들의 놀이터, 스타1픽\n",
      "\n",
      "\n",
      "세상에 이런 일이...[사건의 재구성]\n",
      "\n",
      "\n",
      "\n",
      "\n"
     ]
    }
   ],
   "source": [
    "# p태그 안 데이터 제거하기\n",
    "news_list = response_dict[\"list\"]\n",
    "for news_item in news_list:\n",
    "    oid = news_item[\"oid\"]\n",
    "    aid = news_item[\"aid\"]\n",
    "    url = f\"https://sports.naver.com/news?oid={oid}&aid={aid}\"\n",
    "    news_item_response = requests.get(url)\n",
    "    news_item_html = news_item_response.text\n",
    "    news_item_soup = BeautifulSoup(news_item_html)\n",
    "    title = news_item_soup.find(\"title\").text\n",
    "    \n",
    "    content = news_item_soup.find(\"div\", id =\"newsEndContents\")\n",
    "    p_tags = content.find_all(\"p\")\n",
    "    for p_tag in p_tags:\n",
    "        p_tag.decompose()\n",
    "    print(content.text)\n",
    "    break"
   ]
  },
  {
   "cell_type": "markdown",
   "id": "f8e64cae-6952-405e-a826-1861b7b4939c",
   "metadata": {},
   "source": [
    "기사 본문 외에도 기자 명이나 언론사 링크 등의 불필요한 정보들이 포함되어 있다. 예를 들어 div id=\"newsEndContents\" 태그 안에 포함된 p, div, span, em 태그들은 모두 불필요한 텍스트들을 가지고 있다. 이를 BeautifulSoup를 이용해서 제거한다. "
   ]
  },
  {
   "cell_type": "code",
   "execution_count": 50,
   "id": "f3b7fcd9-974c-4354-9d9d-b4264aa3de16",
   "metadata": {
    "tags": []
   },
   "outputs": [],
   "source": [
    "# 크롤러 코드 함수화하기"
   ]
  },
  {
   "cell_type": "code",
   "execution_count": 51,
   "id": "4eeda0d6-5ec8-4efc-84b8-45e9b607f99b",
   "metadata": {
    "tags": []
   },
   "outputs": [],
   "source": [
    "# 특정 태그 안 데이터 제거하는 함수\n",
    "def remove_tag(parent_soup, target):\n",
    "    p_tags = parent_soup.find_all(target)\n",
    "    for p_tag in p_tags:\n",
    "        p_tag.decompose()"
   ]
  },
  {
   "cell_type": "code",
   "execution_count": 52,
   "id": "cfb2bc8d-4dba-4863-9013-030a95e69ab9",
   "metadata": {
    "tags": []
   },
   "outputs": [],
   "source": [
    "# content에서 불필요한 데이터 제거해주는 함수\n",
    "def parse_content(news_item_soup):\n",
    "    content = news_item_soup.find(\"div\", id =\"newsEndContents\")\n",
    "    remove_tag(content, \"p\")\n",
    "    remove_tag(content, \"div\")\n",
    "    remove_tag(content, \"em\")\n",
    "    remove_tag(content, \"span\")\n",
    "    content_text = content.text.strip()    # 공백 제거\n",
    "    return content_text"
   ]
  },
  {
   "cell_type": "code",
   "execution_count": 53,
   "id": "c0328293-7d95-4afd-8195-b7ec444b463f",
   "metadata": {
    "tags": []
   },
   "outputs": [],
   "source": [
    "# 기사 제목만 뽑아주는 함수\n",
    "def parse_title(news_item_soup):\n",
    "    title = news_item_soup.find(\"title\").text\n",
    "    return title"
   ]
  },
  {
   "cell_type": "code",
   "execution_count": 54,
   "id": "22d0099b-b9b1-4a28-a966-a01b9af01de7",
   "metadata": {},
   "outputs": [
    {
     "name": "stdout",
     "output_type": "stream",
     "text": [
      "김혜성, KBO 페어플레이 수상자 선정…키움 2년 연속 배출 11일 골든글러브 시상식서 수상(서울=뉴스1) 서장원 기자 = 키움 히어로즈 내야수 김혜성이 2023 KBO 페어플레이상 수상자로 선정됐다.KBO는 11일 \"지난달 23일 상벌위원회를 열고 2023 KBO 페어플레이상 수상자로 키움 김혜성을 선정했다\"고 밝혔다.2001년에 제정된 페어플레이상은 KBO 정규시즌 기간 스포츠 정신에 입각한 진지한 태도와 판정 승복으로 타의모범이 돼 KBO리그 이미지 향상에 기여한 선수에게 시상된다.김혜성은 개인 첫 번째 페어플레이상을 받게 됐고, 소속팀 키움은 지난해 이지영에 이어 2년 연속 수상자를 배출하게 됐다.시상은 11일 오후 5시부터 개최되는 KBO 골든글러브 시상식에서 진행된다.\n"
     ]
    }
   ],
   "source": [
    "news_list = response_dict[\"list\"]\n",
    "for news_item in news_list:\n",
    "    oid = news_item[\"oid\"]\n",
    "    aid = news_item[\"aid\"]\n",
    "    url = f\"https://sports.naver.com/news?oid={oid}&aid={aid}\"\n",
    "    news_item_response = requests.get(url)\n",
    "    news_item_html = news_item_response.text\n",
    "    news_item_soup = BeautifulSoup(news_item_html)\n",
    "    title = parse_title(news_item_soup)\n",
    "    content = parse_content(news_item_soup)\n",
    "    print(title, content)\n",
    "    break"
   ]
  },
  {
   "cell_type": "code",
   "execution_count": null,
   "id": "f4e0600f-2d28-471a-914f-1ac9210466f9",
   "metadata": {
    "tags": []
   },
   "outputs": [],
   "source": [
    "# 12월 9일 야구 뉴스 1~6페이지 가져오기"
   ]
  },
  {
   "cell_type": "code",
   "execution_count": 73,
   "id": "a0ffd556-134f-4dae-88a6-88404f90f783",
   "metadata": {
    "tags": []
   },
   "outputs": [
    {
     "name": "stdout",
     "output_type": "stream",
     "text": [
      "https://sports.naver.com/kbaseball/news/index?isphoto=N&sort=latest&isPhoto=N&date=20231209&page=1\n",
      "https://sports.naver.com/kbaseball/news/index?isphoto=N&sort=latest&isPhoto=N&date=20231209&page=2\n",
      "https://sports.naver.com/kbaseball/news/index?isphoto=N&sort=latest&isPhoto=N&date=20231209&page=3\n",
      "https://sports.naver.com/kbaseball/news/index?isphoto=N&sort=latest&isPhoto=N&date=20231209&page=4\n",
      "https://sports.naver.com/kbaseball/news/index?isphoto=N&sort=latest&isPhoto=N&date=20231209&page=5\n",
      "https://sports.naver.com/kbaseball/news/index?isphoto=N&sort=latest&isPhoto=N&date=20231209&page=6\n"
     ]
    }
   ],
   "source": [
    "url_template = \"https://sports.naver.com/kbaseball/news/index?isphoto=N&sort=latest&isPhoto=N&date=20231209&page={target_page}\"\n",
    "for i in range(6):\n",
    "    url = url_template.format(target_page=i+1)\n",
    "    print(url)"
   ]
  },
  {
   "cell_type": "code",
   "execution_count": 94,
   "id": "a26e8414-3668-43ed-9400-76421b0d96d8",
   "metadata": {
    "tags": []
   },
   "outputs": [
    {
     "name": "stdout",
     "output_type": "stream",
     "text": [
      "Defaulting to user installation because normal site-packages is not writeable\n",
      "Requirement already satisfied: tqdm in c:\\programdata\\anaconda3\\lib\\site-packages (4.65.0)\n",
      "Requirement already satisfied: colorama in c:\\programdata\\anaconda3\\lib\\site-packages (from tqdm) (0.4.6)\n"
     ]
    }
   ],
   "source": [
    "!pip install tqdm"
   ]
  },
  {
   "cell_type": "markdown",
   "id": "dc693166-6589-4892-91f7-ad4b4423490c",
   "metadata": {},
   "source": [
    "### 5. 코드 정리 및 CSV 파일에 데이터 쓰기\n",
    "지금까지 네이버 스포츠에서 특정 요일에 야구 기사 목록을 가져온 뒤, 각각의 기사의 제목과 본문을 수집하는 크롤러를 개발해보았다. 코드를 정리해보면 아래와 같다."
   ]
  },
  {
   "cell_type": "code",
   "execution_count": 98,
   "id": "3cae5540-cfae-4b0a-bbea-26fb1c5d3101",
   "metadata": {
    "tags": []
   },
   "outputs": [
    {
     "data": {
      "application/vnd.jupyter.widget-view+json": {
       "model_id": "8b71549d24d24e74b13a8ec63871ca3a",
       "version_major": 2,
       "version_minor": 0
      },
      "text/plain": [
       "  0%|          | 0/20 [00:00<?, ?it/s]"
      ]
     },
     "metadata": {},
     "output_type": "display_data"
    },
    {
     "data": {
      "application/vnd.jupyter.widget-view+json": {
       "model_id": "4105de357c6640f38e85c3075f64562c",
       "version_major": 2,
       "version_minor": 0
      },
      "text/plain": [
       "  0%|          | 0/20 [00:00<?, ?it/s]"
      ]
     },
     "metadata": {},
     "output_type": "display_data"
    },
    {
     "data": {
      "application/vnd.jupyter.widget-view+json": {
       "model_id": "e839631935bb4ca2bb03ffae066f2340",
       "version_major": 2,
       "version_minor": 0
      },
      "text/plain": [
       "  0%|          | 0/20 [00:00<?, ?it/s]"
      ]
     },
     "metadata": {},
     "output_type": "display_data"
    },
    {
     "data": {
      "application/vnd.jupyter.widget-view+json": {
       "model_id": "1dd5a253b7544018ab25438fa245bfa4",
       "version_major": 2,
       "version_minor": 0
      },
      "text/plain": [
       "  0%|          | 0/20 [00:00<?, ?it/s]"
      ]
     },
     "metadata": {},
     "output_type": "display_data"
    },
    {
     "data": {
      "application/vnd.jupyter.widget-view+json": {
       "model_id": "a83a718e97cf46bf90ce5c67793b7496",
       "version_major": 2,
       "version_minor": 0
      },
      "text/plain": [
       "  0%|          | 0/20 [00:00<?, ?it/s]"
      ]
     },
     "metadata": {},
     "output_type": "display_data"
    },
    {
     "data": {
      "application/vnd.jupyter.widget-view+json": {
       "model_id": "91fb4e39d453440fadb52cf4c8b1d067",
       "version_major": 2,
       "version_minor": 0
      },
      "text/plain": [
       "  0%|          | 0/10 [00:00<?, ?it/s]"
      ]
     },
     "metadata": {},
     "output_type": "display_data"
    }
   ],
   "source": [
    "import csv\n",
    "from tqdm.notebook import tqdm    # 반복문 돌 때 진행상황 표시해줌\n",
    "\n",
    "url_template = \"https://sports.naver.com/kbaseball/news/list?date=20231209&isphoto=N&page={target_page}&pageSize=20\"\n",
    "with open(\"./data/baseball_news.csv\", \"w\", encoding=\"utf-8-sig\", newline=\"\") as fw:\n",
    "    writer = csv.writer(fw)\n",
    "    writer.writerow([\"url\", \"title\", \"content\"])\n",
    "    for i in range(6):\n",
    "        url = url_template.format(target_page=i+1)\n",
    "        response = requests.get(url)\n",
    "        response_dict = response.json()\n",
    "        news_list = response_dict[\"list\"]\n",
    "        for news_item in tqdm(news_list, total=len(news_list)):\n",
    "            oid = news_item[\"oid\"]\n",
    "            aid = news_item[\"aid\"]\n",
    "            url = f\"https://sports.naver.com/news?oid={oid}&aid={aid}\"\n",
    "            news_item_response = requests.get(url)\n",
    "            news_item_html = news_item_response.text\n",
    "            news_item_soup = BeautifulSoup(news_item_html)\n",
    "            title = parse_title(news_item_soup)\n",
    "            content = parse_content(news_item_soup)\n",
    "            writer.writerow([news_url, title, content])\n"
   ]
  },
  {
   "cell_type": "code",
   "execution_count": null,
   "id": "5c3fbddd-23a1-4b4d-ad2b-b58ba5ab9797",
   "metadata": {},
   "outputs": [],
   "source": []
  },
  {
   "cell_type": "code",
   "execution_count": null,
   "id": "344d7455-89f0-4734-b781-8e4b6d7d8c45",
   "metadata": {},
   "outputs": [],
   "source": []
  }
 ],
 "metadata": {
  "kernelspec": {
   "display_name": "Python 3 (ipykernel)",
   "language": "python",
   "name": "python3"
  },
  "language_info": {
   "codemirror_mode": {
    "name": "ipython",
    "version": 3
   },
   "file_extension": ".py",
   "mimetype": "text/x-python",
   "name": "python",
   "nbconvert_exporter": "python",
   "pygments_lexer": "ipython3",
   "version": "3.11.5"
  }
 },
 "nbformat": 4,
 "nbformat_minor": 5
}
